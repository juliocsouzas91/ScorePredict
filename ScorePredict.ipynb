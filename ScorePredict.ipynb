{
 "cells": [
  {
   "cell_type": "code",
   "execution_count": 48,
   "metadata": {},
   "outputs": [],
   "source": [
    "import numpy as np \n",
    "import pandas as pd # data processing, CSV file I/O (e.g. pd.read_csv)\n",
    "import matplotlib.pylab as plt\n",
    "from sklearn.metrics import mean_squared_error\n"
   ]
  },
  {
   "cell_type": "code",
   "execution_count": 2,
   "metadata": {},
   "outputs": [],
   "source": [
    "data = pd.read_csv(\"test_scores.csv\")"
   ]
  },
  {
   "cell_type": "code",
   "execution_count": 3,
   "metadata": {},
   "outputs": [
    {
     "data": {
      "text/html": [
       "<div>\n",
       "<style scoped>\n",
       "    .dataframe tbody tr th:only-of-type {\n",
       "        vertical-align: middle;\n",
       "    }\n",
       "\n",
       "    .dataframe tbody tr th {\n",
       "        vertical-align: top;\n",
       "    }\n",
       "\n",
       "    .dataframe thead th {\n",
       "        text-align: right;\n",
       "    }\n",
       "</style>\n",
       "<table border=\"1\" class=\"dataframe\">\n",
       "  <thead>\n",
       "    <tr style=\"text-align: right;\">\n",
       "      <th></th>\n",
       "      <th>school</th>\n",
       "      <th>school_setting</th>\n",
       "      <th>school_type</th>\n",
       "      <th>classroom</th>\n",
       "      <th>teaching_method</th>\n",
       "      <th>n_student</th>\n",
       "      <th>student_id</th>\n",
       "      <th>gender</th>\n",
       "      <th>lunch</th>\n",
       "      <th>pretest</th>\n",
       "      <th>posttest</th>\n",
       "    </tr>\n",
       "  </thead>\n",
       "  <tbody>\n",
       "    <tr>\n",
       "      <th>0</th>\n",
       "      <td>ANKYI</td>\n",
       "      <td>Urban</td>\n",
       "      <td>Non-public</td>\n",
       "      <td>6OL</td>\n",
       "      <td>Standard</td>\n",
       "      <td>20.0</td>\n",
       "      <td>2FHT3</td>\n",
       "      <td>Female</td>\n",
       "      <td>Does not qualify</td>\n",
       "      <td>62.0</td>\n",
       "      <td>72.0</td>\n",
       "    </tr>\n",
       "    <tr>\n",
       "      <th>1</th>\n",
       "      <td>ANKYI</td>\n",
       "      <td>Urban</td>\n",
       "      <td>Non-public</td>\n",
       "      <td>6OL</td>\n",
       "      <td>Standard</td>\n",
       "      <td>20.0</td>\n",
       "      <td>3JIVH</td>\n",
       "      <td>Female</td>\n",
       "      <td>Does not qualify</td>\n",
       "      <td>66.0</td>\n",
       "      <td>79.0</td>\n",
       "    </tr>\n",
       "    <tr>\n",
       "      <th>2</th>\n",
       "      <td>ANKYI</td>\n",
       "      <td>Urban</td>\n",
       "      <td>Non-public</td>\n",
       "      <td>6OL</td>\n",
       "      <td>Standard</td>\n",
       "      <td>20.0</td>\n",
       "      <td>3XOWE</td>\n",
       "      <td>Male</td>\n",
       "      <td>Does not qualify</td>\n",
       "      <td>64.0</td>\n",
       "      <td>76.0</td>\n",
       "    </tr>\n",
       "    <tr>\n",
       "      <th>3</th>\n",
       "      <td>ANKYI</td>\n",
       "      <td>Urban</td>\n",
       "      <td>Non-public</td>\n",
       "      <td>6OL</td>\n",
       "      <td>Standard</td>\n",
       "      <td>20.0</td>\n",
       "      <td>556O0</td>\n",
       "      <td>Female</td>\n",
       "      <td>Does not qualify</td>\n",
       "      <td>61.0</td>\n",
       "      <td>77.0</td>\n",
       "    </tr>\n",
       "    <tr>\n",
       "      <th>4</th>\n",
       "      <td>ANKYI</td>\n",
       "      <td>Urban</td>\n",
       "      <td>Non-public</td>\n",
       "      <td>6OL</td>\n",
       "      <td>Standard</td>\n",
       "      <td>20.0</td>\n",
       "      <td>74LOE</td>\n",
       "      <td>Male</td>\n",
       "      <td>Does not qualify</td>\n",
       "      <td>64.0</td>\n",
       "      <td>76.0</td>\n",
       "    </tr>\n",
       "  </tbody>\n",
       "</table>\n",
       "</div>"
      ],
      "text/plain": [
       "  school school_setting school_type classroom teaching_method  n_student  \\\n",
       "0  ANKYI          Urban  Non-public       6OL        Standard       20.0   \n",
       "1  ANKYI          Urban  Non-public       6OL        Standard       20.0   \n",
       "2  ANKYI          Urban  Non-public       6OL        Standard       20.0   \n",
       "3  ANKYI          Urban  Non-public       6OL        Standard       20.0   \n",
       "4  ANKYI          Urban  Non-public       6OL        Standard       20.0   \n",
       "\n",
       "  student_id  gender             lunch  pretest  posttest  \n",
       "0      2FHT3  Female  Does not qualify     62.0      72.0  \n",
       "1      3JIVH  Female  Does not qualify     66.0      79.0  \n",
       "2      3XOWE    Male  Does not qualify     64.0      76.0  \n",
       "3      556O0  Female  Does not qualify     61.0      77.0  \n",
       "4      74LOE    Male  Does not qualify     64.0      76.0  "
      ]
     },
     "execution_count": 3,
     "metadata": {},
     "output_type": "execute_result"
    }
   ],
   "source": [
    "data.head()"
   ]
  },
  {
   "cell_type": "code",
   "execution_count": 4,
   "metadata": {},
   "outputs": [
    {
     "name": "stdout",
     "output_type": "stream",
     "text": [
      "<class 'pandas.core.frame.DataFrame'>\n",
      "RangeIndex: 2133 entries, 0 to 2132\n",
      "Data columns (total 11 columns):\n",
      "school             2133 non-null object\n",
      "school_setting     2133 non-null object\n",
      "school_type        2133 non-null object\n",
      "classroom          2133 non-null object\n",
      "teaching_method    2133 non-null object\n",
      "n_student          2133 non-null float64\n",
      "student_id         2133 non-null object\n",
      "gender             2133 non-null object\n",
      "lunch              2133 non-null object\n",
      "pretest            2133 non-null float64\n",
      "posttest           2133 non-null float64\n",
      "dtypes: float64(3), object(8)\n",
      "memory usage: 183.4+ KB\n"
     ]
    }
   ],
   "source": [
    "data.info()"
   ]
  },
  {
   "cell_type": "markdown",
   "metadata": {},
   "source": [
    "There are a lot of the data that is strings that needs to be converted into number. \n",
    "\n",
    "Maybe student_id might be not be usefull afterwards."
   ]
  },
  {
   "cell_type": "code",
   "execution_count": 5,
   "metadata": {},
   "outputs": [],
   "source": [
    "#Remove the variable student_id which is not usefull\n",
    "data = data.drop(columns=['student_id'])"
   ]
  },
  {
   "cell_type": "code",
   "execution_count": 6,
   "metadata": {},
   "outputs": [],
   "source": [
    "#The data is transformed into categorical.\n",
    "for col in ['school' ,'school_setting', 'school_type', 'classroom', 'teaching_method', 'gender', 'lunch']:\n",
    "    data[col] = data[col].astype('category')\n"
   ]
  },
  {
   "cell_type": "code",
   "execution_count": 7,
   "metadata": {},
   "outputs": [
    {
     "data": {
      "text/html": [
       "<div>\n",
       "<style scoped>\n",
       "    .dataframe tbody tr th:only-of-type {\n",
       "        vertical-align: middle;\n",
       "    }\n",
       "\n",
       "    .dataframe tbody tr th {\n",
       "        vertical-align: top;\n",
       "    }\n",
       "\n",
       "    .dataframe thead th {\n",
       "        text-align: right;\n",
       "    }\n",
       "</style>\n",
       "<table border=\"1\" class=\"dataframe\">\n",
       "  <thead>\n",
       "    <tr style=\"text-align: right;\">\n",
       "      <th></th>\n",
       "      <th>school</th>\n",
       "      <th>school_setting</th>\n",
       "      <th>school_type</th>\n",
       "      <th>classroom</th>\n",
       "      <th>teaching_method</th>\n",
       "      <th>n_student</th>\n",
       "      <th>gender</th>\n",
       "      <th>lunch</th>\n",
       "      <th>pretest</th>\n",
       "      <th>posttest</th>\n",
       "    </tr>\n",
       "  </thead>\n",
       "  <tbody>\n",
       "    <tr>\n",
       "      <th>0</th>\n",
       "      <td>0</td>\n",
       "      <td>2</td>\n",
       "      <td>0</td>\n",
       "      <td>22</td>\n",
       "      <td>1</td>\n",
       "      <td>20.0</td>\n",
       "      <td>0</td>\n",
       "      <td>0</td>\n",
       "      <td>62.0</td>\n",
       "      <td>72.0</td>\n",
       "    </tr>\n",
       "    <tr>\n",
       "      <th>1</th>\n",
       "      <td>0</td>\n",
       "      <td>2</td>\n",
       "      <td>0</td>\n",
       "      <td>22</td>\n",
       "      <td>1</td>\n",
       "      <td>20.0</td>\n",
       "      <td>0</td>\n",
       "      <td>0</td>\n",
       "      <td>66.0</td>\n",
       "      <td>79.0</td>\n",
       "    </tr>\n",
       "    <tr>\n",
       "      <th>2</th>\n",
       "      <td>0</td>\n",
       "      <td>2</td>\n",
       "      <td>0</td>\n",
       "      <td>22</td>\n",
       "      <td>1</td>\n",
       "      <td>20.0</td>\n",
       "      <td>1</td>\n",
       "      <td>0</td>\n",
       "      <td>64.0</td>\n",
       "      <td>76.0</td>\n",
       "    </tr>\n",
       "    <tr>\n",
       "      <th>3</th>\n",
       "      <td>0</td>\n",
       "      <td>2</td>\n",
       "      <td>0</td>\n",
       "      <td>22</td>\n",
       "      <td>1</td>\n",
       "      <td>20.0</td>\n",
       "      <td>0</td>\n",
       "      <td>0</td>\n",
       "      <td>61.0</td>\n",
       "      <td>77.0</td>\n",
       "    </tr>\n",
       "    <tr>\n",
       "      <th>4</th>\n",
       "      <td>0</td>\n",
       "      <td>2</td>\n",
       "      <td>0</td>\n",
       "      <td>22</td>\n",
       "      <td>1</td>\n",
       "      <td>20.0</td>\n",
       "      <td>1</td>\n",
       "      <td>0</td>\n",
       "      <td>64.0</td>\n",
       "      <td>76.0</td>\n",
       "    </tr>\n",
       "  </tbody>\n",
       "</table>\n",
       "</div>"
      ],
      "text/plain": [
       "   school  school_setting  school_type  classroom  teaching_method  n_student  \\\n",
       "0       0               2            0         22                1       20.0   \n",
       "1       0               2            0         22                1       20.0   \n",
       "2       0               2            0         22                1       20.0   \n",
       "3       0               2            0         22                1       20.0   \n",
       "4       0               2            0         22                1       20.0   \n",
       "\n",
       "   gender  lunch  pretest  posttest  \n",
       "0       0      0     62.0      72.0  \n",
       "1       0      0     66.0      79.0  \n",
       "2       1      0     64.0      76.0  \n",
       "3       0      0     61.0      77.0  \n",
       "4       1      0     64.0      76.0  "
      ]
     },
     "execution_count": 7,
     "metadata": {},
     "output_type": "execute_result"
    }
   ],
   "source": [
    "#enconding the data\n",
    "from sklearn import preprocessing\n",
    "le = preprocessing.LabelEncoder()\n",
    "for col in ['school' , 'school_setting', 'school_type', 'classroom', 'teaching_method', 'gender', 'lunch']:\n",
    "    le.fit(data[col])\n",
    "    data[col] = le.transform(data[col])\n",
    "data.head()"
   ]
  },
  {
   "cell_type": "code",
   "execution_count": 8,
   "metadata": {},
   "outputs": [],
   "source": [
    "def split_train_test(data,test_ratio):\n",
    "    shuffled_indices = np.random.permutation(len(data))\n",
    "    test_set_size = int(len(data)*test_ratio)\n",
    "    test_indices = shuffled_indices[:test_set_size]\n",
    "    train_indices = shuffled_indices[test_set_size:]\n",
    "    return data.iloc[train_indices],data.iloc[test_indices]\n",
    "train,test = split_train_test(data, 0.2)\n",
    "x_test = test.drop('posttest',axis = 1)\n",
    "x_train = train.drop('posttest',axis = 1)\n",
    "y_test = test['posttest'].values\n",
    "y_train = train['posttest'].values"
   ]
  },
  {
   "cell_type": "markdown",
   "metadata": {},
   "source": [
    "Before analyse the feature, lets use all data to predict the students score.\n",
    "\n",
    "Let's use linear Regretion"
   ]
  },
  {
   "cell_type": "code",
   "execution_count": 9,
   "metadata": {},
   "outputs": [
    {
     "data": {
      "text/plain": [
       "<matplotlib.axes._subplots.AxesSubplot at 0x1b6546e8668>"
      ]
     },
     "execution_count": 9,
     "metadata": {},
     "output_type": "execute_result"
    },
    {
     "data": {
      "image/png": "[encoded data removed]",
      "text/plain": [
       "<Figure size 1080x720 with 2 Axes>"
      ]
     },
     "metadata": {
      "needs_background": "light"
     },
     "output_type": "display_data"
    }
   ],
   "source": [
    "#Check the correlation betweem the features\n",
    "import seaborn as sns\n",
    "# Correlation matrix for dataset\n",
    "plt.figure(figsize=(15,10))\n",
    "sns.heatmap(data.corr(), annot=True, cmap=\"inferno\")"
   ]
  },
  {
   "cell_type": "code",
   "execution_count": 82,
   "metadata": {},
   "outputs": [
    {
     "name": "stdout",
     "output_type": "stream",
     "text": [
      "10.989496779769484\n",
      "3.3150409921703057\n",
      "[ 75.15368368  78.62567278  74.54102975  55.64230192  67.5682654\n",
      "  43.60733626  62.43782297  55.78156559  71.46903457  74.6290805\n",
      "  75.08144778  57.97246994  42.42085225  53.25576559  77.81989876\n",
      "  72.26755232  64.68592122  68.87036392  82.56982959  68.5553972\n",
      "  70.23448048  39.63934093  66.80753792  68.52647296  68.70050375\n",
      "  68.68026698  64.24274726  38.67855953  76.04222917  45.07370662\n",
      "  76.24286169  84.34974572  72.23971902  37.38745549  82.21449878\n",
      "  66.11288952  75.87892858  73.67427088  68.78231318  92.71085818\n",
      "  58.24475976  54.355047    58.18390757  45.29117796  81.25371738\n",
      "  50.07548289  61.89077965  55.64454846  48.53842648  71.7777782\n",
      "  76.76528948  88.16427433  57.5360314   76.94780286  67.11686015\n",
      "  54.83556586  80.65051334  69.51617859  45.29117796  54.0510618\n",
      "  64.78450754  74.07908894  71.1424991   80.69022448  57.01168855\n",
      "  57.15910859  79.96864706  71.13652732  74.12066639  45.74258321\n",
      "  79.81460172  80.3057181   86.50902959  79.34493671  84.49273463\n",
      "  67.58985739  76.01118729  53.63430019  53.24374713  57.56611124\n",
      "  60.02121599  73.10346394  59.90836468  51.16493044  66.63383442\n",
      "  87.46981098  66.27850361  71.58284792  68.84118836  59.18530437\n",
      "  52.30861445  75.08144778  62.28133271  82.89636506  78.94038819\n",
      "  92.03695889  53.39426561  57.84760017  69.28571755  62.02703313\n",
      "  44.18592477  93.32427575  63.13523457  55.13292578  91.15889121\n",
      "  60.18065449  39.04346388  88.78592318  72.37217235  77.07145928\n",
      "  81.38559211  60.99401584  85.77870924  72.67229547  52.12949901\n",
      "  80.3057181   43.48246649  56.40976483  83.47264008  49.62407765\n",
      "  96.55398375  72.04563688  61.37915697  93.12164801  79.87333627\n",
      "  68.47383909  78.84089759  77.42337393  68.59870886  55.27591469\n",
      "  87.65489819  76.70655493  46.13910804  87.34494121  67.69313517\n",
      "  68.47383909  58.47805891  51.31993781  86.50902959  63.48259839\n",
      "  50.91139451  86.53916718  50.06346443  42.29598248  79.95380345\n",
      "  77.86796884  59.58407574  92.48836413  58.94758329  53.25576559\n",
      "  97.16740132  48.79196241  54.09167721  68.7291007   51.79917636\n",
      "  51.29358739  82.54700603  62.22991219  85.35114252  74.12066639\n",
      "  62.58524301  72.31195492  69.15345884  47.19313872  48.27815513\n",
      "  69.84195042  65.84675653  63.75149025  71.11345244  76.03021071\n",
      "  70.95998572  54.73955338  62.98781453  66.27850361  69.19188966\n",
      "  55.008056    61.95479724  68.20251132  59.90984757  51.28980021\n",
      "  71.20728034  63.81234243  76.15508048  89.11245866  64.96483633\n",
      "  49.38635657  58.09965321  63.98921133  73.58622014  48.91683218\n",
      "  85.65004308  71.35618326  63.13523457  67.46743255  58.97983852\n",
      "  60.16632254  53.84785545  83.53285752  60.30552426  51.42077066\n",
      "  45.27157594  69.15345884  57.97246994  51.54564043  82.4402014\n",
      "  54.8787551   92.58598841  71.43985901  68.52904679  55.48959885\n",
      "  65.67305303  87.5595874   58.58267894  57.59304027  68.06401129\n",
      "  79.74146155  78.25928555  61.36040308  93.8336519   82.62380572\n",
      "  67.24172992  74.92553613  79.3321546   53.77877198  77.91115808\n",
      "  46.87039963  78.50324794  59.0604346   92.71085818  74.06803251\n",
      "  92.03695889  75.9895953   64.71227164  47.36620747  66.61571528\n",
      "  75.05728196  94.28505714  49.52549133  68.42821394  48.79196241\n",
      "  54.48820204  47.19313872  69.37318969  62.1963147   73.58024836\n",
      "  73.24169443  60.57332519  53.08649322  52.75995775  57.08462616\n",
      "  49.87761357  79.68748542  77.03218612  72.07423383  59.74956093\n",
      "  79.82893368  46.22033887  56.97402138  59.07393595  62.12465741\n",
      "  57.09889115  60.50045454  51.42077066  89.74670457  65.07865888\n",
      "  54.63493334  70.63788137  73.8829453   65.4616154   77.29850416\n",
      "  73.94058892  82.47124328  56.32319697  74.30928045  85.65004308\n",
      "  71.53626073  57.37054622  48.46548888  45.89380339  68.06401129\n",
      "  58.66390977  69.16084778  50.51192144  49.95061312  67.93914152\n",
      "  56.66111616  64.01929117  73.22967597  85.90357901  62.02703313\n",
      "  86.73949063  55.57385321  80.95898744  88.40751749  43.36961518\n",
      "  80.86195097  64.42859811  52.26870074  62.33993836  57.84760017\n",
      "  88.66105341  78.84089759  58.88131917 103.60598896  86.82130006\n",
      "  72.69709604  82.49893595  82.78351375  77.9073709   63.28196586\n",
      "  60.03323445  59.07393595  67.90958253  67.56569157  74.19290229\n",
      "  69.37318969  62.65150713  57.15910859  72.11484924  60.92999826\n",
      "  51.29358739  55.68073274  90.58261619  68.46882935  79.60444441\n",
      "  60.41837558  78.99899384  73.11682466  59.34756802  78.03224067\n",
      "  63.46781672  54.52881746  98.802082    65.34876409  66.79475581\n",
      "  79.68882767  83.55444951  90.44193158  53.58287967  68.06401129\n",
      "  41.68577348  52.95782707  79.5888991   95.37070831  77.42337393\n",
      "  66.38178138  51.92629267  61.21367178  87.07862317  65.85877499\n",
      "  41.4480524   55.76941823  51.64647328  92.58598841  55.99897499\n",
      "  50.06346443  75.92937786  59.20554115  68.5866904   44.94883685\n",
      "  45.07370662  51.98502721  58.11315456  71.19674476  51.54024726\n",
      "  57.41116163  84.14884367  67.38317819  49.91604439  47.83118102\n",
      "  86.90631807  80.62544324  76.67551305  76.70655493  82.10241111\n",
      "  71.88838297  50.23428665  74.58846508  67.46743255  92.37551282\n",
      "  48.98983173  74.48839588  61.95628012  57.74676732  51.99641093\n",
      "  72.14646973  73.159885    80.88733015  52.75995775  76.70655493\n",
      "  80.3057181   39.16833365  62.79070886  77.68288163  53.26939584\n",
      "  52.25436878  86.34296579  77.9073709   80.77447884  48.15392011\n",
      "  89.74670457  80.88733015  53.3543519   61.10686716  93.58983014\n",
      "  82.42818294  45.30319642  68.23110827  77.8078803   65.77157239\n",
      "  38.65895751  70.54919588  60.98199738  82.27471621  60.18065449\n",
      "  88.86773262  47.84454174  51.79917636  69.61469795  68.42821394\n",
      "  58.93325134  41.33520109  65.96778298  69.41759228  59.21313768\n",
      "  50.45998927]\n"
     ]
    }
   ],
   "source": [
    "#Function to select the training and test data\n",
    "from sklearn.linear_model import LinearRegression\n",
    "from sklearn.preprocessing import StandardScaler\n",
    "\n",
    "scaler = StandardScaler() \n",
    "reg = LinearRegression().fit(scaler.fit_transform(x_train[[\"n_student\",\"pretest\", \"school_type\",\"teaching_method\",\"gender\",\"lunch\",\"school_setting\"]]), y_train)\n",
    "predictions = reg.predict(scaler.fit_transform(x_test[[\"n_student\",\"pretest\", \"school_type\",\"teaching_method\",\"gender\",\"lunch\",\"school_setting\"]]))\n",
    "\n",
    "errors = mean_squared_error(predictions,y_test)\n",
    "print(errors)\n",
    "tree_rmse = np.sqrt(errors)\n",
    "print(tree_rmse)\n",
    "print(predictions)"
   ]
  },
  {
   "cell_type": "code",
   "execution_count": 81,
   "metadata": {},
   "outputs": [
    {
     "name": "stdout",
     "output_type": "stream",
     "text": [
      "10.290143676613456\n",
      "3.20782538125339\n"
     ]
    }
   ],
   "source": [
    "#Function to select the training and test data\n",
    "reg = LinearRegression().fit(x_train[[\"n_student\",\"pretest\", \"school_type\",\"teaching_method\",\"gender\",\"lunch\",\"school_setting\"]], y_train)\n",
    "predictions = reg.predict(x_test[[\"n_student\",\"pretest\", \"school_type\",\"teaching_method\",\"gender\",\"lunch\",\"school_setting\"]])\n",
    "\n",
    "errors = mean_squared_error(predictions,y_test)\n",
    "print(errors)\n",
    "tree_rmse = np.sqrt(errors)\n",
    "print(tree_rmse)\n"
   ]
  },
  {
   "cell_type": "code",
   "execution_count": 86,
   "metadata": {},
   "outputs": [
    {
     "name": "stdout",
     "output_type": "stream",
     "text": [
      "10.783825457634688\n",
      "3.283873544708244\n"
     ]
    }
   ],
   "source": [
    "from sklearn.neural_network import MLPRegressor\n",
    "from sklearn import preprocessing\n",
    "min_max_scaler = preprocessing.MinMaxScaler()\n",
    "\n",
    "\n",
    "regr =  MLPRegressor(random_state=1, max_iter=1000)\n",
    "regr.fit(scaler.fit_transform(x_train[[\"n_student\",\"pretest\", \"school_type\",\"teaching_method\",\"gender\",\"lunch\",\"school_setting\"]]), y_train)\n",
    "predictions = regr.predict(scaler.fit_transform((x_test[[\"n_student\",\"pretest\", \"school_type\",\"teaching_method\",\"gender\",\"lunch\",\"school_setting\"]])))\n",
    "\n",
    "errors = mean_squared_error(predictions,y_test)\n",
    "print(errors)\n",
    "tree_rmse = np.sqrt(errors)\n",
    "print(tree_rmse)"
   ]
  },
  {
   "cell_type": "code",
   "execution_count": 113,
   "metadata": {},
   "outputs": [
    {
     "name": "stdout",
     "output_type": "stream",
     "text": [
      "11.01643192488263\n",
      "3.319101071808846\n"
     ]
    }
   ],
   "source": [
    "from sklearn.ensemble import GradientBoostingRegressor\n",
    "\n",
    "gbrt = GradientBoostingRegressor()\n",
    "gbrt.fit(scaler.fit_transform(min_max_scaler.fit_transform(x_train[[\"n_student\",\"pretest\", \"school_type\",\"teaching_method\",\"gender\",\"lunch\",\"school_setting\"]])), y_train)\n",
    "predictions = gbrt.predict(scaler.fit_transform(min_max_scaler.fit_transform(x_test[[\"n_student\",\"pretest\", \"school_type\",\"teaching_method\",\"gender\",\"lunch\",\"school_setting\"]])))\n",
    "\n",
    "errors = mean_squared_error(np.round(predictions),y_test)\n",
    "print(errors)\n",
    "tree_rmse = np.sqrt(errors)\n",
    "print(tree_rmse)"
   ]
  },
  {
   "cell_type": "code",
   "execution_count": 114,
   "metadata": {},
   "outputs": [
    {
     "name": "stdout",
     "output_type": "stream",
     "text": [
      "9.835680751173708\n",
      "3.13618888958776\n"
     ]
    }
   ],
   "source": [
    "gbrt = GradientBoostingRegressor()\n",
    "gbrt.fit(x_train[[\"n_student\",\"pretest\", \"school_type\",\"teaching_method\",\"gender\",\"lunch\",\"school_setting\"]], y_train)\n",
    "predictions = gbrt.predict(x_test[[\"n_student\",\"pretest\", \"school_type\",\"teaching_method\",\"gender\",\"lunch\",\"school_setting\"]])\n",
    "\n",
    "errors = mean_squared_error(np.round(predictions),y_test)\n",
    "print(errors)\n",
    "tree_rmse = np.sqrt(errors)\n",
    "print(tree_rmse)"
   ]
  },
  {
   "cell_type": "code",
   "execution_count": 118,
   "metadata": {},
   "outputs": [
    {
     "name": "stdout",
     "output_type": "stream",
     "text": [
      "<class 'pandas.core.frame.DataFrame'>\n",
      "RangeIndex: 2133 entries, 0 to 2132\n",
      "Data columns (total 10 columns):\n",
      "school             2133 non-null int32\n",
      "school_setting     2133 non-null int32\n",
      "school_type        2133 non-null int32\n",
      "classroom          2133 non-null int32\n",
      "teaching_method    2133 non-null int32\n",
      "n_student          2133 non-null float64\n",
      "gender             2133 non-null int32\n",
      "lunch              2133 non-null int32\n",
      "pretest            2133 non-null float64\n",
      "posttest           2133 non-null float64\n",
      "dtypes: float64(3), int32(7)\n",
      "memory usage: 108.4 KB\n"
     ]
    }
   ],
   "source": [
    "data.info()"
   ]
  },
  {
   "cell_type": "code",
   "execution_count": 105,
   "metadata": {},
   "outputs": [
    {
     "data": {
      "text/plain": [
       "array([72., 82., 79., 55., 68., 41., 68., 57., 69., 77., 74., 60., 42.,\n",
       "       56., 81., 78., 68., 72., 83., 65., 73., 42., 68., 69., 69., 67.,\n",
       "       68., 43., 70., 46., 76., 81., 73., 47., 84., 65., 74., 71., 73.,\n",
       "       91., 55., 56., 58., 40., 82., 47., 64., 60., 47., 73., 74., 82.,\n",
       "       59., 75., 74., 58., 78., 62., 51., 52., 61., 68., 73., 79., 57.,\n",
       "       60., 76., 70., 69., 51., 79., 80., 81., 86., 85., 66., 82., 54.,\n",
       "       57., 57., 61., 78., 62., 55., 70., 85., 70., 73., 69., 64., 55.,\n",
       "       77., 61., 87., 77., 94., 58., 61., 70., 70., 48., 94., 65., 50.,\n",
       "       93., 57., 39., 90., 71., 76., 80., 59., 85., 70., 55., 79., 40.,\n",
       "       61., 88., 48., 93., 73., 56., 87., 79., 68., 79., 77., 68., 55.,\n",
       "       84., 80., 43., 90., 68., 66., 59., 60., 83., 62., 54., 84., 51.,\n",
       "       43., 76., 84., 65., 94., 58., 59., 94., 54., 56., 74., 54., 56.,\n",
       "       79., 60., 82., 72., 63., 71., 67., 48., 55., 75., 66., 65., 68.,\n",
       "       77., 69., 56., 65., 66., 67., 60., 62., 68., 59., 57., 72., 64.,\n",
       "       79., 95., 65., 49., 61., 63., 74., 49., 88., 71., 66., 70., 53.,\n",
       "       62., 57., 80., 68., 46., 50., 68., 64., 54., 81., 53., 95., 71.,\n",
       "       72., 62., 68., 89., 60., 62., 70., 80., 83., 68., 96., 82., 74.,\n",
       "       81., 83., 56., 77., 52., 78., 59., 96., 77., 93., 74., 61., 49.,\n",
       "       69., 74., 96., 53., 71., 50., 63., 51., 72., 64., 75., 77., 64.,\n",
       "       53., 53., 55., 59., 79., 76., 75., 62., 78., 45., 61., 59., 62.,\n",
       "       61., 64., 53., 91., 63., 60., 75., 77., 67., 78., 74., 82., 56.,\n",
       "       75., 90., 74., 62., 51., 44., 67., 60., 76., 51., 45., 69., 58.,\n",
       "       58., 81., 92., 63., 82., 56., 73., 92., 41., 83., 61., 54., 63.,\n",
       "       62., 94., 78., 62., 98., 87., 69., 85., 80., 71., 60., 64., 59.,\n",
       "       69., 69., 78., 70., 61., 54., 68., 65., 50., 58., 95., 64., 83.,\n",
       "       62., 81., 76., 60., 76., 66., 55., 96., 73., 70., 91., 85., 95.,\n",
       "       52., 76., 39., 52., 77., 91., 80., 67., 53., 62., 83., 69., 41.,\n",
       "       52., 55., 97., 58., 54., 81., 55., 68., 43., 49., 53., 58., 72.,\n",
       "       51., 59., 88., 67., 52., 45., 88., 81., 75., 72., 80., 74., 52.,\n",
       "       81., 71., 93., 49., 75., 57., 58., 53., 75., 69., 78., 53., 74.,\n",
       "       81., 39., 62., 78., 55., 52., 85., 76., 84., 47., 91., 79., 47.,\n",
       "       58., 94., 87., 46., 69., 80., 63., 44., 69., 62., 86., 63., 93.,\n",
       "       47., 52., 70., 70., 60., 44., 67., 61., 56., 49.])"
      ]
     },
     "execution_count": 105,
     "metadata": {},
     "output_type": "execute_result"
    }
   ],
   "source": [
    "y_test"
   ]
  },
  {
   "cell_type": "code",
   "execution_count": null,
   "metadata": {},
   "outputs": [],
   "source": []
  }
 ],
 "metadata": {
  "kernelspec": {
   "display_name": "Python 3",
   "language": "python",
   "name": "python3"
  },
  "language_info": {
   "codemirror_mode": {
    "name": "ipython",
    "version": 3
   },
   "file_extension": ".py",
   "mimetype": "text/x-python",
   "name": "python",
   "nbconvert_exporter": "python",
   "pygments_lexer": "ipython3",
   "version": "3.7.3"
  }
 },
 "nbformat": 4,
 "nbformat_minor": 5
}
