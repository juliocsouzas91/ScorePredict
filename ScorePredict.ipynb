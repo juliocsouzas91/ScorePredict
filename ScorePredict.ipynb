{
 "cells": [
  {
   "cell_type": "code",
   "execution_count": 1,
   "id": "gentle-opinion",
   "metadata": {},
   "outputs": [
    {
     "name": "stderr",
     "output_type": "stream",
     "text": [
      "Matplotlib created a temporary config/cache directory at /tmp/matplotlib-dmjpf8ii because the default path (/home/juliosouza/.config/matplotlib) is not a writable directory; it is highly recommended to set the MPLCONFIGDIR environment variable to a writable directory, in particular to speed up the import of Matplotlib and to better support multiprocessing.\n"
     ]
    }
   ],
   "source": [
    "import numpy as np \n",
    "import pandas as pd # data processing, CSV file I/O (e.g. pd.read_csv)\n",
    "import matplotlib.pylab as plt"
   ]
  },
  {
   "cell_type": "code",
   "execution_count": 2,
   "id": "sweet-surname",
   "metadata": {},
   "outputs": [],
   "source": [
    "data = pd.read_csv(\"test_scores.csv\")"
   ]
  },
  {
   "cell_type": "code",
   "execution_count": 5,
   "id": "stretch-finder",
   "metadata": {},
   "outputs": [
    {
     "data": {
      "text/html": [
       "<div>\n",
       "<style scoped>\n",
       "    .dataframe tbody tr th:only-of-type {\n",
       "        vertical-align: middle;\n",
       "    }\n",
       "\n",
       "    .dataframe tbody tr th {\n",
       "        vertical-align: top;\n",
       "    }\n",
       "\n",
       "    .dataframe thead th {\n",
       "        text-align: right;\n",
       "    }\n",
       "</style>\n",
       "<table border=\"1\" class=\"dataframe\">\n",
       "  <thead>\n",
       "    <tr style=\"text-align: right;\">\n",
       "      <th></th>\n",
       "      <th>school</th>\n",
       "      <th>school_setting</th>\n",
       "      <th>school_type</th>\n",
       "      <th>classroom</th>\n",
       "      <th>teaching_method</th>\n",
       "      <th>n_student</th>\n",
       "      <th>student_id</th>\n",
       "      <th>gender</th>\n",
       "      <th>lunch</th>\n",
       "      <th>pretest</th>\n",
       "      <th>posttest</th>\n",
       "    </tr>\n",
       "  </thead>\n",
       "  <tbody>\n",
       "    <tr>\n",
       "      <th>0</th>\n",
       "      <td>ANKYI</td>\n",
       "      <td>Urban</td>\n",
       "      <td>Non-public</td>\n",
       "      <td>6OL</td>\n",
       "      <td>Standard</td>\n",
       "      <td>20.0</td>\n",
       "      <td>2FHT3</td>\n",
       "      <td>Female</td>\n",
       "      <td>Does not qualify</td>\n",
       "      <td>62.0</td>\n",
       "      <td>72.0</td>\n",
       "    </tr>\n",
       "    <tr>\n",
       "      <th>1</th>\n",
       "      <td>ANKYI</td>\n",
       "      <td>Urban</td>\n",
       "      <td>Non-public</td>\n",
       "      <td>6OL</td>\n",
       "      <td>Standard</td>\n",
       "      <td>20.0</td>\n",
       "      <td>3JIVH</td>\n",
       "      <td>Female</td>\n",
       "      <td>Does not qualify</td>\n",
       "      <td>66.0</td>\n",
       "      <td>79.0</td>\n",
       "    </tr>\n",
       "    <tr>\n",
       "      <th>2</th>\n",
       "      <td>ANKYI</td>\n",
       "      <td>Urban</td>\n",
       "      <td>Non-public</td>\n",
       "      <td>6OL</td>\n",
       "      <td>Standard</td>\n",
       "      <td>20.0</td>\n",
       "      <td>3XOWE</td>\n",
       "      <td>Male</td>\n",
       "      <td>Does not qualify</td>\n",
       "      <td>64.0</td>\n",
       "      <td>76.0</td>\n",
       "    </tr>\n",
       "    <tr>\n",
       "      <th>3</th>\n",
       "      <td>ANKYI</td>\n",
       "      <td>Urban</td>\n",
       "      <td>Non-public</td>\n",
       "      <td>6OL</td>\n",
       "      <td>Standard</td>\n",
       "      <td>20.0</td>\n",
       "      <td>556O0</td>\n",
       "      <td>Female</td>\n",
       "      <td>Does not qualify</td>\n",
       "      <td>61.0</td>\n",
       "      <td>77.0</td>\n",
       "    </tr>\n",
       "    <tr>\n",
       "      <th>4</th>\n",
       "      <td>ANKYI</td>\n",
       "      <td>Urban</td>\n",
       "      <td>Non-public</td>\n",
       "      <td>6OL</td>\n",
       "      <td>Standard</td>\n",
       "      <td>20.0</td>\n",
       "      <td>74LOE</td>\n",
       "      <td>Male</td>\n",
       "      <td>Does not qualify</td>\n",
       "      <td>64.0</td>\n",
       "      <td>76.0</td>\n",
       "    </tr>\n",
       "  </tbody>\n",
       "</table>\n",
       "</div>"
      ],
      "text/plain": [
       "  school school_setting school_type classroom teaching_method  n_student  \\\n",
       "0  ANKYI          Urban  Non-public       6OL        Standard       20.0   \n",
       "1  ANKYI          Urban  Non-public       6OL        Standard       20.0   \n",
       "2  ANKYI          Urban  Non-public       6OL        Standard       20.0   \n",
       "3  ANKYI          Urban  Non-public       6OL        Standard       20.0   \n",
       "4  ANKYI          Urban  Non-public       6OL        Standard       20.0   \n",
       "\n",
       "  student_id  gender             lunch  pretest  posttest  \n",
       "0      2FHT3  Female  Does not qualify     62.0      72.0  \n",
       "1      3JIVH  Female  Does not qualify     66.0      79.0  \n",
       "2      3XOWE    Male  Does not qualify     64.0      76.0  \n",
       "3      556O0  Female  Does not qualify     61.0      77.0  \n",
       "4      74LOE    Male  Does not qualify     64.0      76.0  "
      ]
     },
     "execution_count": 5,
     "metadata": {},
     "output_type": "execute_result"
    }
   ],
   "source": [
    "data.head()"
   ]
  },
  {
   "cell_type": "code",
   "execution_count": 7,
   "id": "approved-gibraltar",
   "metadata": {},
   "outputs": [
    {
     "name": "stdout",
     "output_type": "stream",
     "text": [
      "<class 'pandas.core.frame.DataFrame'>\n",
      "RangeIndex: 2133 entries, 0 to 2132\n",
      "Data columns (total 11 columns):\n",
      " #   Column           Non-Null Count  Dtype  \n",
      "---  ------           --------------  -----  \n",
      " 0   school           2133 non-null   object \n",
      " 1   school_setting   2133 non-null   object \n",
      " 2   school_type      2133 non-null   object \n",
      " 3   classroom        2133 non-null   object \n",
      " 4   teaching_method  2133 non-null   object \n",
      " 5   n_student        2133 non-null   float64\n",
      " 6   student_id       2133 non-null   object \n",
      " 7   gender           2133 non-null   object \n",
      " 8   lunch            2133 non-null   object \n",
      " 9   pretest          2133 non-null   float64\n",
      " 10  posttest         2133 non-null   float64\n",
      "dtypes: float64(3), object(8)\n",
      "memory usage: 183.4+ KB\n"
     ]
    }
   ],
   "source": [
    "data.info()"
   ]
  },
  {
   "cell_type": "markdown",
   "id": "nuclear-hardwood",
   "metadata": {},
   "source": [
    "There are a lot of the data that is strings that needs to be converted into number. \n",
    "\n",
    "Maybe student_id might be not be usefull afterwards."
   ]
  },
  {
   "cell_type": "code",
   "execution_count": 8,
   "id": "significant-trace",
   "metadata": {},
   "outputs": [],
   "source": [
    "#Remove the variable student_id which is not usefull\n",
    "data = data.drop(columns=['student_id'])"
   ]
  },
  {
   "cell_type": "code",
   "execution_count": 9,
   "id": "stopped-command",
   "metadata": {},
   "outputs": [],
   "source": [
    "#The data is transformed into categorical.\n",
    "for col in ['school' ,'school_setting', 'school_type', 'classroom', 'teaching_method', 'gender', 'lunch']:\n",
    "    data[col] = data[col].astype('category')\n"
   ]
  },
  {
   "cell_type": "code",
   "execution_count": 15,
   "id": "reserved-roller",
   "metadata": {},
   "outputs": [],
   "source": [
    "#enconding the data\n",
    "from sklearn import preprocessing\n",
    "le = preprocessing.LabelEncoder()\n",
    "for col in ['school' , 'school_setting', 'school_type', 'classroom', 'teaching_method', 'gender', 'lunch']:\n",
    "    le.fit(data[col])\n",
    "    data[col] = le.transform(data[col])\n",
    "data.head()"
   ]
  },
  {
   "cell_type": "code",
   "execution_count": 22,
   "id": "physical-spanish",
   "metadata": {},
   "outputs": [],
   "source": [
    "def split_train_test(data,test_ratio):\n",
    "    shuffled_indices = np.random.permutation(len(data))\n",
    "    test_set_size = int(len(data)*test_ratio)\n",
    "    test_indices = shuffled_indices[:test_set_size]\n",
    "    train_indices = shuffled_indices[test_set_size:]\n",
    "    return data.iloc[train_indices],data.iloc[test_indices]\n",
    "train,test = split_train_test(data, 0.2)\n",
    "x_test = test.drop('posttest',axis = 1)\n",
    "x_train = train.drop('posttest',axis = 1)\n",
    "y_test = test['posttest'].values\n",
    "y_train = train['posttest'].values"
   ]
  },
  {
   "cell_type": "markdown",
   "id": "foreign-helena",
   "metadata": {},
   "source": [
    "Before analyse the feature, lets use all data to predict the students score.\n",
    "\n",
    "Let's use linear Regretion"
   ]
  },
  {
   "cell_type": "code",
   "execution_count": null,
   "id": "spectacular-motel",
   "metadata": {},
   "outputs": [],
   "source": [
    "#Check the correlation betweem the features\n",
    "import seaborn as sns\n",
    "# Correlation matrix for dataset\n",
    "plt.figure(figsize=(15,10))\n",
    "sns.heatmap(data.corr(), annot=True, cmap=\"inferno\")"
   ]
  },
  {
   "cell_type": "code",
   "execution_count": 26,
   "id": "swiss-mitchell",
   "metadata": {},
   "outputs": [],
   "source": [
    "#Function to select the training and test data\n",
    "from sklearn.linear_model import LinearRegression\n",
    "reg = LinearRegression().fit(x_train, y_train)\n",
    "predictions = reg.predict(x_test)"
   ]
  },
  {
   "cell_type": "code",
   "execution_count": 35,
   "id": "solar-copying",
   "metadata": {},
   "outputs": [
    {
     "data": {
      "text/plain": [
       "array([ 67.,  79.,  58.,  62.,  89.,  80.,  44.,  63.,  46.,  56., 101.,\n",
       "        59.,  79.,  76.,  81.,  87.,  75.,  37.,  52.,  49.,  77.,  81.,\n",
       "        63.,  52.,  72.,  55.,  49.,  43.,  81.,  55.,  71.,  90.,  81.,\n",
       "        77.,  84.,  42.,  62.,  81.,  64.,  58.,  72.,  74.,  63.,  55.,\n",
       "        65.,  76.,  65.,  62.,  66.,  54.,  82.,  53.,  55.,  68.,  75.,\n",
       "        76.,  46.,  63.,  61.,  55.,  88.,  62.,  40.,  75.,  86.,  48.,\n",
       "        48.,  44.,  50.,  61.,  73.,  82.,  65.,  54.,  69.,  54.,  76.,\n",
       "        47.,  78.,  46.,  74.,  93.,  68.,  85.,  84.,  67.,  41.,  62.,\n",
       "        57.,  78.,  75.,  82.,  53.,  78.,  48.,  57.,  71.,  62.,  73.,\n",
       "        60.,  52.,  90.,  68.,  87.,  65.,  81.,  92.,  55.,  40.,  83.,\n",
       "        44.,  94.,  76.,  76.,  65.,  74.,  64.,  56.,  87.,  35.,  52.,\n",
       "        74.,  55.,  63.,  72.,  72.,  77.,  93.,  44.,  65.,  72.,  64.,\n",
       "        43.,  69.,  56.,  80.,  67.,  64.,  60.,  52.,  72.,  44.,  61.,\n",
       "        80.,  51.,  50.,  57.,  49.,  75.,  92.,  58.,  82.,  50.,  76.,\n",
       "        79.,  64.,  72.,  54.,  56.,  64.,  49.,  52.,  69.,  52.,  59.,\n",
       "        61.,  75.,  71.,  69.,  76.,  70.,  50.,  50.,  84.,  53.,  83.,\n",
       "        83.,  76.,  60.,  67.,  87.,  44.,  87.,  50.,  57.,  53.,  80.,\n",
       "        91.,  42.,  56.,  59.,  74.,  76.,  59.,  44.,  78.,  56.,  67.,\n",
       "        75.,  71.,  73.,  65.,  83.,  76.,  61.,  73.,  79.,  58.,  74.,\n",
       "        45.,  49.,  74.,  77.,  77.,  59.,  80.,  70.,  60.,  56.,  70.,\n",
       "        69.,  47.,  49.,  47.,  55.,  57.,  83.,  52.,  56.,  92.,  79.,\n",
       "        53.,  69.,  91.,  57.,  88.,  78.,  85.,  84.,  78.,  54.,  51.,\n",
       "        63.,  46.,  67.,  63.,  72.,  87.,  58.,  61.,  85.,  49.,  64.,\n",
       "        46.,  56.,  80.,  82.,  68.,  67.,  74.,  57.,  70.,  70.,  62.,\n",
       "        85.,  65.,  49.,  59.,  61.,  91.,  39.,  59.,  73.,  56.,  72.,\n",
       "        89.,  59.,  82.,  83.,  76.,  46.,  80.,  63.,  78.,  66.,  64.,\n",
       "        53.,  49.,  54.,  57.,  71.,  77.,  49.,  54.,  52.,  82.,  74.,\n",
       "        52.,  79.,  56.,  57.,  54.,  84.,  40.,  79.,  83.,  75.,  70.,\n",
       "        56.,  63.,  71.,  90.,  69.,  68.,  67.,  74.,  66.,  89.,  63.,\n",
       "        74.,  51.,  51.,  68.,  55.,  74.,  59.,  61.,  79.,  73.,  50.,\n",
       "        58.,  63.,  59.,  81.,  69.,  43.,  54.,  58.,  68.,  74.,  70.,\n",
       "        72.,  67.,  86.,  51.,  57.,  68.,  66.,  47.,  70.,  51.,  73.,\n",
       "        76.,  73.,  86.,  57.,  78.,  60.,  55.,  66.,  64.,  83.,  60.,\n",
       "        70.,  75.,  94.,  80.,  69.,  75.,  58.,  92.,  57.,  59.,  57.,\n",
       "        85.,  52.,  75.,  89.,  50.,  46.,  83.,  79.,  65.,  83.,  54.,\n",
       "        59.,  68.,  65.,  74.,  53.,  85.,  44.,  67.,  78.,  63.,  59.,\n",
       "        83.,  61.,  88.,  54.,  69.,  66.,  74.,  61.,  72.,  56.,  60.,\n",
       "        72.,  43.,  53.,  38.,  82.,  82.,  78.,  62.,  74.,  75.,  50.,\n",
       "        55., 107.,  93.,  78.,  76.,  88.,  68.,  98.])"
      ]
     },
     "execution_count": 35,
     "metadata": {},
     "output_type": "execute_result"
    }
   ],
   "source": [
    "from sklearn.metrics import confusion_matrix, accuracy_score\n",
    "predictions = np.round(predictions)\n",
    "predictions"
   ]
  },
  {
   "cell_type": "code",
   "execution_count": 36,
   "id": "banner-pound",
   "metadata": {},
   "outputs": [
    {
     "data": {
      "text/plain": [
       "array([ 68.,  81.,  51.,  63.,  94.,  76.,  45.,  61.,  48.,  55.,  98.,\n",
       "        55.,  80.,  72.,  81.,  83.,  81.,  34.,  55.,  51.,  75.,  91.,\n",
       "        61.,  56.,  72.,  55.,  50.,  38.,  82.,  57.,  74.,  87.,  81.,\n",
       "        74.,  86.,  45.,  58.,  82.,  71.,  53.,  74.,  76.,  57.,  52.,\n",
       "        62.,  75.,  68.,  65.,  67.,  57.,  82.,  57.,  51.,  66.,  76.,\n",
       "        73.,  43.,  64.,  61.,  53.,  92.,  63.,  43.,  71.,  92.,  44.,\n",
       "        52.,  40.,  50.,  61.,  70.,  80.,  64.,  59.,  70.,  59.,  79.,\n",
       "        49.,  84.,  45.,  72.,  96.,  69.,  83.,  87.,  68.,  44.,  59.,\n",
       "        57.,  76.,  75.,  82.,  53.,  71.,  50.,  58.,  77.,  62.,  81.,\n",
       "        57.,  48.,  87.,  73.,  88.,  64.,  78.,  93.,  56.,  37.,  87.,\n",
       "        43.,  96.,  81.,  80.,  68.,  75.,  60.,  55.,  86.,  35.,  56.,\n",
       "        73.,  54.,  61.,  73.,  71.,  78.,  87.,  42.,  63.,  71.,  64.,\n",
       "        44.,  73.,  55.,  82.,  65.,  70.,  61.,  62.,  74.,  46.,  59.,\n",
       "        84.,  52.,  54.,  58.,  52.,  72.,  89.,  62.,  84.,  48.,  77.,\n",
       "        76.,  64.,  73.,  59.,  58.,  65.,  50.,  49.,  72.,  47.,  63.,\n",
       "        61.,  77.,  71.,  73.,  70.,  69.,  48.,  50.,  86.,  55.,  86.,\n",
       "        84.,  74.,  60.,  61.,  87.,  43.,  96.,  48.,  58.,  55.,  78.,\n",
       "        95.,  42.,  56.,  64.,  74.,  73.,  57.,  45.,  78.,  58.,  67.,\n",
       "        79.,  71.,  73.,  66.,  83.,  80.,  62.,  74.,  78.,  58.,  77.,\n",
       "        45.,  45.,  75.,  74.,  78.,  65.,  84.,  68.,  55.,  60.,  71.,\n",
       "        67.,  43.,  47.,  45.,  56.,  54.,  79.,  51.,  56.,  92.,  79.,\n",
       "        57.,  69.,  95.,  56.,  89.,  75.,  87.,  89.,  82.,  58.,  51.,\n",
       "        57.,  53.,  68.,  63.,  72.,  89.,  57.,  61.,  85.,  47.,  65.,\n",
       "        47.,  57.,  80.,  80.,  70.,  59.,  73.,  53.,  74.,  72.,  59.,\n",
       "        84.,  67.,  51.,  60.,  59.,  93.,  41.,  57.,  78.,  56.,  71.,\n",
       "        93.,  61.,  79.,  82.,  71.,  47.,  79.,  61.,  80.,  65.,  66.,\n",
       "        59.,  48.,  52.,  55.,  72.,  74.,  55.,  56.,  50.,  82.,  73.,\n",
       "        51.,  81.,  55.,  55.,  54.,  84.,  42.,  76.,  85.,  73.,  69.,\n",
       "        54.,  63.,  72.,  95.,  71.,  69.,  67.,  76.,  69.,  95.,  62.,\n",
       "        70.,  52.,  49.,  70.,  54.,  77.,  60.,  54.,  82.,  76.,  56.,\n",
       "        58.,  62.,  62.,  78.,  62.,  38.,  59.,  55.,  74.,  75.,  72.,\n",
       "        68.,  63.,  88.,  53.,  59.,  65.,  69.,  45.,  67.,  54.,  75.,\n",
       "        85.,  71.,  88.,  58.,  79.,  63.,  57.,  65.,  69.,  80.,  56.,\n",
       "        71.,  71.,  96.,  76.,  64.,  74.,  59.,  91.,  55.,  57.,  62.,\n",
       "        79.,  48.,  70.,  90.,  50.,  43.,  72.,  77.,  68.,  85.,  56.,\n",
       "        64.,  70.,  64.,  77.,  52.,  91.,  46.,  67.,  76.,  63.,  62.,\n",
       "        85.,  63.,  89.,  61.,  69.,  69.,  76.,  63.,  67.,  59.,  62.,\n",
       "        73.,  45.,  50.,  38.,  80.,  82.,  78.,  56.,  76.,  85.,  49.,\n",
       "        59., 100.,  95.,  81.,  72.,  83.,  69., 100.])"
      ]
     },
     "execution_count": 36,
     "metadata": {},
     "output_type": "execute_result"
    }
   ],
   "source": [
    "y_test"
   ]
  },
  {
   "cell_type": "code",
   "execution_count": 33,
   "id": "after-viewer",
   "metadata": {},
   "outputs": [
    {
     "data": {
      "text/plain": [
       "array([ 67.14478362,  78.85406526,  58.29823643,  62.38403668,\n",
       "        89.17839396,  80.44859181,  44.10728258,  63.0534606 ,\n",
       "        45.50808616,  55.56643496, 101.48033093,  58.92228133,\n",
       "        79.06294369,  75.92589941,  81.28416787,  87.27490597,\n",
       "        75.24169062,  37.24224471,  51.91250076,  48.75762219,\n",
       "        77.03178528,  81.26141228,  63.28793839,  51.75133457,\n",
       "        72.15146367,  55.24045058,  48.9299784 ,  42.7960364 ,\n",
       "        80.70532916,  55.04739732,  71.18594355,  90.13400487,\n",
       "        81.36404725,  76.94240369,  83.95259201,  42.04276067,\n",
       "        62.48163706,  80.99969032,  63.89268407,  58.23469606,\n",
       "        72.06498241,  74.34021368,  63.48130969,  54.51958401,\n",
       "        65.1706052 ,  76.0877936 ,  64.93994248,  62.12782865,\n",
       "        66.04679546,  53.78144407,  81.83983954,  53.04775764,\n",
       "        54.76256895,  67.82310116,  74.59856575,  76.40338961,\n",
       "        46.44833181,  62.92249866,  60.89892957,  55.49175466,\n",
       "        88.37686035,  61.78368631,  40.44015797,  74.62563199,\n",
       "        86.0895151 ,  48.28498201,  48.28498201,  44.13832884,\n",
       "        50.41491839,  61.2021967 ,  73.33417346,  82.06884651,\n",
       "        64.92371696,  54.03161889,  69.28808656,  53.5615429 ,\n",
       "        76.19147758,  46.62068802,  78.33189599,  46.05043838,\n",
       "        73.7251664 ,  92.91632352,  68.40904771,  85.33367479,\n",
       "        83.51874722,  67.13552635,  41.24992242,  62.16762455,\n",
       "        56.5406605 ,  78.3193767 ,  74.6439765 ,  82.20979982,\n",
       "        52.91130505,  78.2937083 ,  48.16137937,  57.30616292,\n",
       "        71.33946958,  61.89389127,  72.86100349,  60.45801694,\n",
       "        52.09382608,  90.22812425,  67.65577197,  87.36253183,\n",
       "        64.60145737,  80.9892687 ,  92.25174436,  55.24045058,\n",
       "        39.68688223,  82.95117415,  44.13832884,  94.05405473,\n",
       "        75.6446337 ,  76.46089631,  65.33641634,  74.43216162,\n",
       "        63.91751139,  55.59585232,  87.01514705,  34.63770507,\n",
       "        52.23468063,  73.54598833,  55.06358366,  63.4659757 ,\n",
       "        71.91618317,  72.2960991 ,  76.57026565,  92.91090072,\n",
       "        44.10728258,  65.25853291,  72.18781925,  64.32284059,\n",
       "        43.00929442,  69.22505034,  56.335034  ,  80.1449722 ,\n",
       "        66.98079352,  63.96541155,  59.97025493,  52.12522899,\n",
       "        72.20404477,  44.31068505,  60.68907985,  80.16943087,\n",
       "        50.67652459,  50.09850558,  57.37260448,  49.21061396,\n",
       "        74.57198486,  92.06088063,  57.84047951,  81.83983954,\n",
       "        49.57853643,  76.4952404 ,  78.59732791,  64.40694164,\n",
       "        72.07632485,  53.5615429 ,  56.14538548,  64.32284059,\n",
       "        48.75145704,  52.12212569,  69.46044278,  51.60215654,\n",
       "        59.22386838,  60.72657336,  75.49761681,  70.61719141,\n",
       "        69.37456782,  75.59307487,  69.78909228,  50.07891627,\n",
       "        50.01264327,  84.40804284,  52.77852508,  83.48222501,\n",
       "        82.8405326 ,  75.53526436,  59.69174341,  67.37531053,\n",
       "        87.4512284 ,  43.93492637,  86.84279083,  50.24256218,\n",
       "        57.15552656,  52.66577649,  79.75560178,  90.54531863,\n",
       "        41.87040445,  55.63015643,  58.81036022,  74.08253322,\n",
       "        75.84550621,  59.32874638,  43.93492637,  78.27826504,\n",
       "        55.55542093,  67.22057639,  74.6439765 ,  70.84731142,\n",
       "        72.70479603,  65.09607317,  83.11868294,  76.03152999,\n",
       "        61.2021967 ,  72.84181511,  79.04698404,  58.23075822,\n",
       "        73.69121695,  44.58245421,  49.22522766,  73.62649376,\n",
       "        76.74606402,  77.2867409 ,  58.63800401,  80.28719587,\n",
       "        70.06491927,  60.25831618,  56.30052333,  70.06491927,\n",
       "        69.27411955,  47.0875809 ,  49.21061396,  46.54003438,\n",
       "        55.23593987,  57.00188604,  83.42417697,  51.92369079,\n",
       "        55.55542093,  91.7829336 ,  78.59388576,  53.36848963,\n",
       "        69.42696074,  91.06505962,  57.29647986,  88.2107252 ,\n",
       "        78.2937083 ,  84.87822396,  83.95259201,  78.49537061,\n",
       "        54.1195466 ,  50.61158733,  62.91950699,  45.78675864,\n",
       "        67.40352881,  63.13283274,  72.14466726,  86.52559645,\n",
       "        58.08454022,  60.63037316,  84.84574236,  49.38297017,\n",
       "        64.19553156,  45.98072634,  56.38343216,  79.97261599,\n",
       "        82.24120273,  67.66793935,  66.82773825,  73.94400922,\n",
       "        57.30512627,  69.61673607,  69.6046341 ,  61.93722386,\n",
       "        84.97479426,  65.00348591,  48.56365449,  59.01017217,\n",
       "        60.63037316,  91.44951509,  38.76125028,  58.86137146,\n",
       "        72.7692227 ,  55.61502855,  71.89054707,  89.04073036,\n",
       "        59.21697919,  81.60686568,  82.55677894,  75.71939845,\n",
       "        45.69505607,  80.24641458,  62.57783726,  77.90433788,\n",
       "        65.65857032,  64.18188729,  52.83813271,  48.82526069,\n",
       "        54.02574362,  56.65340909,  71.35327275,  76.6492521 ,\n",
       "        49.45778478,  53.78144407,  51.70687425,  81.66748332,\n",
       "        73.69121695,  51.81881278,  79.14842642,  55.55542093,\n",
       "        56.89866122,  53.59140844,  84.40804284,  39.51452602,\n",
       "        78.5871514 ,  82.80173064,  74.98075244,  69.73567898,\n",
       "        55.55542093,  63.31279623,  71.25318621,  90.43201566,\n",
       "        68.5763769 ,  67.93782838,  67.15100433,  73.80777222,\n",
       "        65.84439623,  88.54921656,  63.23713156,  73.77966774,\n",
       "        51.17690443,  50.60272094,  68.12706218,  55.23974708,\n",
       "        74.25488944,  58.89277437,  61.07513228,  79.41736486,\n",
       "        73.37689286,  50.38341673,  58.29823643,  63.23491279,\n",
       "        58.74992512,  81.07060415,  68.82991202,  43.10118632,\n",
       "        54.38727712,  57.84047951,  68.07663628,  73.83096053,\n",
       "        69.63164566,  71.62273279,  67.22346192,  86.3594613 ,\n",
       "        50.92726118,  57.09171448,  67.93782838,  65.65800023,\n",
       "        46.97607033,  69.78909228,  51.07649155,  73.01594797,\n",
       "        75.85458064,  72.94615603,  85.77232071,  57.46629245,\n",
       "        77.50137777,  59.78262464,  54.87943223,  65.80619691,\n",
       "        64.02048682,  82.94031996,  59.97025493,  70.07713994,\n",
       "        75.10071573,  93.6341975 ,  80.4384153 ,  68.85135836,\n",
       "        74.6168489 ,  57.5394648 ,  92.20279083,  57.19335908,\n",
       "        58.92228133,  56.89644245,  85.16131858,  51.86390716,\n",
       "        75.21684027,  88.86641094,  50.41491839,  46.44833181,\n",
       "        82.9026724 ,  78.62131138,  64.74640807,  82.80173064,\n",
       "        53.59733377,  59.01017217,  68.31856456,  64.77376256,\n",
       "        73.7933698 ,  53.08549797,  84.75768869,  44.19917448,\n",
       "        67.09973644,  77.51030002,  63.41707363,  58.83781595,\n",
       "        82.82928971,  61.43667449,  87.9427422 ,  53.64049076,\n",
       "        69.2311381 ,  66.08656448,  73.88295246,  61.45768958,\n",
       "        71.84816786,  56.44147664,  60.08202212,  72.31659357,\n",
       "        43.18165063,  52.91314176,  37.83561833,  82.24120273,\n",
       "        82.0484549 ,  77.70525536,  62.20720079,  73.7933698 ,\n",
       "        74.71226739,  50.24256218,  55.45780022, 106.86176642,\n",
       "        92.57090195,  78.3459271 ,  75.72362015,  87.75169011,\n",
       "        67.87296902,  97.60544692])"
      ]
     },
     "execution_count": 33,
     "metadata": {},
     "output_type": "execute_result"
    }
   ],
   "source": [
    "predictions"
   ]
  },
  {
   "cell_type": "code",
   "execution_count": null,
   "id": "sharing-martin",
   "metadata": {},
   "outputs": [],
   "source": []
  }
 ],
 "metadata": {
  "kernelspec": {
   "display_name": "Python 3",
   "language": "python",
   "name": "python3"
  },
  "language_info": {
   "codemirror_mode": {
    "name": "ipython",
    "version": 3
   },
   "file_extension": ".py",
   "mimetype": "text/x-python",
   "name": "python",
   "nbconvert_exporter": "python",
   "pygments_lexer": "ipython3",
   "version": "3.8.5"
  }
 },
 "nbformat": 4,
 "nbformat_minor": 5
}
