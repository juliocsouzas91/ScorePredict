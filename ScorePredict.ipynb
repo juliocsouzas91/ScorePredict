{
 "cells": [
  {
   "cell_type": "code",
<<<<<<< HEAD
   "execution_count": 1,
   "id": "white-litigation",
   "metadata": {},
   "outputs": [
    {
     "name": "stderr",
     "output_type": "stream",
     "text": [
      "Matplotlib created a temporary config/cache directory at /tmp/matplotlib-k85acdmn because the default path (/home/juliosouza/.config/matplotlib) is not a writable directory; it is highly recommended to set the MPLCONFIGDIR environment variable to a writable directory, in particular to speed up the import of Matplotlib and to better support multiprocessing.\n"
     ]
    }
   ],
=======
   "execution_count": 48,
   "metadata": {},
   "outputs": [],
>>>>>>> e02ef273473faaef5b1bb42292b949d2a92cccc3
   "source": [
    "import numpy as np \n",
    "import pandas as pd # data processing, CSV file I/O (e.g. pd.read_csv)\n",
    "import matplotlib.pylab as plt\n",
    "from sklearn.metrics import mean_squared_error\n"
   ]
  },
  {
   "cell_type": "code",
   "execution_count": 2,
<<<<<<< HEAD
   "id": "sonic-violation",
=======
>>>>>>> e02ef273473faaef5b1bb42292b949d2a92cccc3
   "metadata": {},
   "outputs": [],
   "source": [
    "data = pd.read_csv(\"test_scores.csv\")"
   ]
  },
  {
   "cell_type": "code",
   "execution_count": 3,
<<<<<<< HEAD
   "id": "selective-giving",
=======
>>>>>>> e02ef273473faaef5b1bb42292b949d2a92cccc3
   "metadata": {},
   "outputs": [
    {
     "data": {
      "text/html": [
       "<div>\n",
       "<style scoped>\n",
       "    .dataframe tbody tr th:only-of-type {\n",
       "        vertical-align: middle;\n",
       "    }\n",
       "\n",
       "    .dataframe tbody tr th {\n",
       "        vertical-align: top;\n",
       "    }\n",
       "\n",
       "    .dataframe thead th {\n",
       "        text-align: right;\n",
       "    }\n",
       "</style>\n",
       "<table border=\"1\" class=\"dataframe\">\n",
       "  <thead>\n",
       "    <tr style=\"text-align: right;\">\n",
       "      <th></th>\n",
       "      <th>school</th>\n",
       "      <th>school_setting</th>\n",
       "      <th>school_type</th>\n",
       "      <th>classroom</th>\n",
       "      <th>teaching_method</th>\n",
       "      <th>n_student</th>\n",
       "      <th>student_id</th>\n",
       "      <th>gender</th>\n",
       "      <th>lunch</th>\n",
       "      <th>pretest</th>\n",
       "      <th>posttest</th>\n",
       "    </tr>\n",
       "  </thead>\n",
       "  <tbody>\n",
       "    <tr>\n",
       "      <th>0</th>\n",
       "      <td>ANKYI</td>\n",
       "      <td>Urban</td>\n",
       "      <td>Non-public</td>\n",
       "      <td>6OL</td>\n",
       "      <td>Standard</td>\n",
       "      <td>20.0</td>\n",
       "      <td>2FHT3</td>\n",
       "      <td>Female</td>\n",
       "      <td>Does not qualify</td>\n",
       "      <td>62.0</td>\n",
       "      <td>72.0</td>\n",
       "    </tr>\n",
       "    <tr>\n",
       "      <th>1</th>\n",
       "      <td>ANKYI</td>\n",
       "      <td>Urban</td>\n",
       "      <td>Non-public</td>\n",
       "      <td>6OL</td>\n",
       "      <td>Standard</td>\n",
       "      <td>20.0</td>\n",
       "      <td>3JIVH</td>\n",
       "      <td>Female</td>\n",
       "      <td>Does not qualify</td>\n",
       "      <td>66.0</td>\n",
       "      <td>79.0</td>\n",
       "    </tr>\n",
       "    <tr>\n",
       "      <th>2</th>\n",
       "      <td>ANKYI</td>\n",
       "      <td>Urban</td>\n",
       "      <td>Non-public</td>\n",
       "      <td>6OL</td>\n",
       "      <td>Standard</td>\n",
       "      <td>20.0</td>\n",
       "      <td>3XOWE</td>\n",
       "      <td>Male</td>\n",
       "      <td>Does not qualify</td>\n",
       "      <td>64.0</td>\n",
       "      <td>76.0</td>\n",
       "    </tr>\n",
       "    <tr>\n",
       "      <th>3</th>\n",
       "      <td>ANKYI</td>\n",
       "      <td>Urban</td>\n",
       "      <td>Non-public</td>\n",
       "      <td>6OL</td>\n",
       "      <td>Standard</td>\n",
       "      <td>20.0</td>\n",
       "      <td>556O0</td>\n",
       "      <td>Female</td>\n",
       "      <td>Does not qualify</td>\n",
       "      <td>61.0</td>\n",
       "      <td>77.0</td>\n",
       "    </tr>\n",
       "    <tr>\n",
       "      <th>4</th>\n",
       "      <td>ANKYI</td>\n",
       "      <td>Urban</td>\n",
       "      <td>Non-public</td>\n",
       "      <td>6OL</td>\n",
       "      <td>Standard</td>\n",
       "      <td>20.0</td>\n",
       "      <td>74LOE</td>\n",
       "      <td>Male</td>\n",
       "      <td>Does not qualify</td>\n",
       "      <td>64.0</td>\n",
       "      <td>76.0</td>\n",
       "    </tr>\n",
       "  </tbody>\n",
       "</table>\n",
       "</div>"
      ],
      "text/plain": [
       "  school school_setting school_type classroom teaching_method  n_student  \\\n",
       "0  ANKYI          Urban  Non-public       6OL        Standard       20.0   \n",
       "1  ANKYI          Urban  Non-public       6OL        Standard       20.0   \n",
       "2  ANKYI          Urban  Non-public       6OL        Standard       20.0   \n",
       "3  ANKYI          Urban  Non-public       6OL        Standard       20.0   \n",
       "4  ANKYI          Urban  Non-public       6OL        Standard       20.0   \n",
       "\n",
       "  student_id  gender             lunch  pretest  posttest  \n",
       "0      2FHT3  Female  Does not qualify     62.0      72.0  \n",
       "1      3JIVH  Female  Does not qualify     66.0      79.0  \n",
       "2      3XOWE    Male  Does not qualify     64.0      76.0  \n",
       "3      556O0  Female  Does not qualify     61.0      77.0  \n",
       "4      74LOE    Male  Does not qualify     64.0      76.0  "
      ]
     },
     "execution_count": 3,
     "metadata": {},
     "output_type": "execute_result"
    }
   ],
   "source": [
    "data.head()"
   ]
  },
  {
   "cell_type": "code",
   "execution_count": 4,
<<<<<<< HEAD
   "id": "behind-groove",
=======
>>>>>>> e02ef273473faaef5b1bb42292b949d2a92cccc3
   "metadata": {},
   "outputs": [
    {
     "name": "stdout",
     "output_type": "stream",
     "text": [
      "<class 'pandas.core.frame.DataFrame'>\n",
      "RangeIndex: 2133 entries, 0 to 2132\n",
      "Data columns (total 11 columns):\n",
      "school             2133 non-null object\n",
      "school_setting     2133 non-null object\n",
      "school_type        2133 non-null object\n",
      "classroom          2133 non-null object\n",
      "teaching_method    2133 non-null object\n",
      "n_student          2133 non-null float64\n",
      "student_id         2133 non-null object\n",
      "gender             2133 non-null object\n",
      "lunch              2133 non-null object\n",
      "pretest            2133 non-null float64\n",
      "posttest           2133 non-null float64\n",
      "dtypes: float64(3), object(8)\n",
      "memory usage: 183.4+ KB\n"
     ]
    }
   ],
   "source": [
    "data.info()"
   ]
  },
  {
   "cell_type": "markdown",
<<<<<<< HEAD
   "id": "pediatric-elizabeth",
=======
>>>>>>> e02ef273473faaef5b1bb42292b949d2a92cccc3
   "metadata": {},
   "source": [
    "There are a lot of the data that is strings that needs to be converted into number. \n",
    "\n",
    "Maybe student_id might be not be usefull afterwards."
   ]
  },
  {
   "cell_type": "code",
   "execution_count": 5,
<<<<<<< HEAD
   "id": "shared-signal",
=======
>>>>>>> e02ef273473faaef5b1bb42292b949d2a92cccc3
   "metadata": {},
   "outputs": [],
   "source": [
    "#Remove the variable student_id which is not usefull\n",
    "data = data.drop(columns=['student_id'])"
   ]
  },
  {
   "cell_type": "code",
   "execution_count": 6,
<<<<<<< HEAD
   "id": "expected-shock",
=======
>>>>>>> e02ef273473faaef5b1bb42292b949d2a92cccc3
   "metadata": {},
   "outputs": [],
   "source": [
    "#The data is transformed into categorical.\n",
    "for col in ['school' ,'school_setting', 'school_type', 'classroom', 'teaching_method', 'gender', 'lunch']:\n",
    "    data[col] = data[col].astype('category')\n"
   ]
  },
  {
   "cell_type": "code",
   "execution_count": 7,
<<<<<<< HEAD
   "id": "forbidden-basement",
=======
>>>>>>> e02ef273473faaef5b1bb42292b949d2a92cccc3
   "metadata": {},
   "outputs": [
    {
     "data": {
      "text/html": [
       "<div>\n",
       "<style scoped>\n",
       "    .dataframe tbody tr th:only-of-type {\n",
       "        vertical-align: middle;\n",
       "    }\n",
       "\n",
       "    .dataframe tbody tr th {\n",
       "        vertical-align: top;\n",
       "    }\n",
       "\n",
       "    .dataframe thead th {\n",
       "        text-align: right;\n",
       "    }\n",
       "</style>\n",
       "<table border=\"1\" class=\"dataframe\">\n",
       "  <thead>\n",
       "    <tr style=\"text-align: right;\">\n",
       "      <th></th>\n",
       "      <th>school</th>\n",
       "      <th>school_setting</th>\n",
       "      <th>school_type</th>\n",
       "      <th>classroom</th>\n",
       "      <th>teaching_method</th>\n",
       "      <th>n_student</th>\n",
       "      <th>gender</th>\n",
       "      <th>lunch</th>\n",
       "      <th>pretest</th>\n",
       "      <th>posttest</th>\n",
       "    </tr>\n",
       "  </thead>\n",
       "  <tbody>\n",
       "    <tr>\n",
       "      <th>0</th>\n",
       "      <td>0</td>\n",
       "      <td>2</td>\n",
       "      <td>0</td>\n",
       "      <td>22</td>\n",
       "      <td>1</td>\n",
       "      <td>20.0</td>\n",
       "      <td>0</td>\n",
       "      <td>0</td>\n",
       "      <td>62.0</td>\n",
       "      <td>72.0</td>\n",
       "    </tr>\n",
       "    <tr>\n",
       "      <th>1</th>\n",
       "      <td>0</td>\n",
       "      <td>2</td>\n",
       "      <td>0</td>\n",
       "      <td>22</td>\n",
       "      <td>1</td>\n",
       "      <td>20.0</td>\n",
       "      <td>0</td>\n",
       "      <td>0</td>\n",
       "      <td>66.0</td>\n",
       "      <td>79.0</td>\n",
       "    </tr>\n",
       "    <tr>\n",
       "      <th>2</th>\n",
       "      <td>0</td>\n",
       "      <td>2</td>\n",
       "      <td>0</td>\n",
       "      <td>22</td>\n",
       "      <td>1</td>\n",
       "      <td>20.0</td>\n",
       "      <td>1</td>\n",
       "      <td>0</td>\n",
       "      <td>64.0</td>\n",
       "      <td>76.0</td>\n",
       "    </tr>\n",
       "    <tr>\n",
       "      <th>3</th>\n",
       "      <td>0</td>\n",
       "      <td>2</td>\n",
       "      <td>0</td>\n",
       "      <td>22</td>\n",
       "      <td>1</td>\n",
       "      <td>20.0</td>\n",
       "      <td>0</td>\n",
       "      <td>0</td>\n",
       "      <td>61.0</td>\n",
       "      <td>77.0</td>\n",
       "    </tr>\n",
       "    <tr>\n",
       "      <th>4</th>\n",
       "      <td>0</td>\n",
       "      <td>2</td>\n",
       "      <td>0</td>\n",
       "      <td>22</td>\n",
       "      <td>1</td>\n",
       "      <td>20.0</td>\n",
       "      <td>1</td>\n",
       "      <td>0</td>\n",
       "      <td>64.0</td>\n",
       "      <td>76.0</td>\n",
       "    </tr>\n",
       "  </tbody>\n",
       "</table>\n",
       "</div>"
      ],
      "text/plain": [
       "   school  school_setting  school_type  classroom  teaching_method  n_student  \\\n",
       "0       0               2            0         22                1       20.0   \n",
       "1       0               2            0         22                1       20.0   \n",
       "2       0               2            0         22                1       20.0   \n",
       "3       0               2            0         22                1       20.0   \n",
       "4       0               2            0         22                1       20.0   \n",
       "\n",
       "   gender  lunch  pretest  posttest  \n",
       "0       0      0     62.0      72.0  \n",
       "1       0      0     66.0      79.0  \n",
       "2       1      0     64.0      76.0  \n",
       "3       0      0     61.0      77.0  \n",
       "4       1      0     64.0      76.0  "
      ]
     },
     "execution_count": 7,
     "metadata": {},
     "output_type": "execute_result"
    }
   ],
   "source": [
    "#enconding the data\n",
    "from sklearn import preprocessing\n",
    "le = preprocessing.LabelEncoder()\n",
    "for col in ['school' , 'school_setting', 'school_type', 'classroom', 'teaching_method', 'gender', 'lunch']:\n",
    "    le.fit(data[col])\n",
    "    data[col] = le.transform(data[col])\n",
    "data.head()"
   ]
  },
  {
   "cell_type": "code",
   "execution_count": 8,
<<<<<<< HEAD
   "id": "unavailable-thesaurus",
=======
>>>>>>> e02ef273473faaef5b1bb42292b949d2a92cccc3
   "metadata": {},
   "outputs": [],
   "source": [
    "def split_train_test(data,test_ratio):\n",
    "    shuffled_indices = np.random.permutation(len(data))\n",
    "    test_set_size = int(len(data)*test_ratio)\n",
    "    test_indices = shuffled_indices[:test_set_size]\n",
    "    train_indices = shuffled_indices[test_set_size:]\n",
    "    return data.iloc[train_indices],data.iloc[test_indices]\n",
    "train,test = split_train_test(data, 0.2)\n",
    "x_test = test.drop('posttest',axis = 1)\n",
    "x_train = train.drop('posttest',axis = 1)\n",
    "y_test = test['posttest'].values\n",
    "y_train = train['posttest'].values"
   ]
  },
  {
   "cell_type": "markdown",
<<<<<<< HEAD
   "id": "american-recipe",
=======
>>>>>>> e02ef273473faaef5b1bb42292b949d2a92cccc3
   "metadata": {},
   "source": [
    "Before analyse the feature, lets use all data to predict the students score.\n",
    "\n",
    "Let's use linear Regretion"
   ]
  },
  {
   "cell_type": "code",
   "execution_count": 9,
<<<<<<< HEAD
   "id": "automatic-fairy",
=======
>>>>>>> e02ef273473faaef5b1bb42292b949d2a92cccc3
   "metadata": {},
   "outputs": [
    {
     "data": {
      "text/plain": [
<<<<<<< HEAD
       "<AxesSubplot:>"
=======
       "<matplotlib.axes._subplots.AxesSubplot at 0x1b6546e8668>"
>>>>>>> e02ef273473faaef5b1bb42292b949d2a92cccc3
      ]
     },
     "execution_count": 9,
     "metadata": {},
     "output_type": "execute_result"
    },
    {
     "data": {
<<<<<<< HEAD
      "image/png": "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\n",
=======
      "image/png": "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\n",
>>>>>>> e02ef273473faaef5b1bb42292b949d2a92cccc3
      "text/plain": [
       "<Figure size 1080x720 with 2 Axes>"
      ]
     },
     "metadata": {
      "needs_background": "light"
     },
     "output_type": "display_data"
    }
   ],
   "source": [
    "#Check the correlation betweem the features\n",
    "import seaborn as sns\n",
    "# Correlation matrix for dataset\n",
    "plt.figure(figsize=(15,10))\n",
    "sns.heatmap(data.corr(), annot=True, cmap=\"inferno\")"
   ]
  },
  {
   "cell_type": "code",
<<<<<<< HEAD
   "execution_count": 10,
   "id": "suspected-transmission",
=======
   "execution_count": 82,
>>>>>>> e02ef273473faaef5b1bb42292b949d2a92cccc3
   "metadata": {},
   "outputs": [
    {
     "name": "stdout",
     "output_type": "stream",
     "text": [
<<<<<<< HEAD
      "10.723891040410441\n",
      "3.274735262644973\n",
      "[78.4297536  73.32718167 63.05932218 87.39856498 83.89056743 87.52647578\n",
      " 79.48230516 64.64358039 57.77434455 54.53085826 65.42256862 45.39610313\n",
      " 82.54571408 75.49121815 77.14008588 51.32421563 53.96854253 43.70296124\n",
      " 70.97220892 60.24784771 63.69971096 72.7427786  63.2698506  76.26793999\n",
      " 48.47166343 80.37134856 61.19171714 66.23051991 51.37924322 89.56053663\n",
      " 87.80367854 56.37255683 69.33636099 47.64128704 90.43999809 59.08229332\n",
      " 59.30240368 60.00877503 75.43619056 74.8222851  60.24784771 91.32152437\n",
      " 61.40224555 74.31696465 70.39607008 51.1100478  76.93612035 53.85254483\n",
      " 80.08179287 69.39939592 55.32000527 90.40377479 54.25649872 58.31288704\n",
      " 80.15261126 92.68724683 93.95990874 61.57533566 58.80826209 69.79174656\n",
      " 58.11251742 74.84108938 77.71717339 69.59175821 49.35112489 60.48671884\n",
      " 72.98169323 56.1805044  49.51827247 91.26649678 65.19445092 93.04215916\n",
      " 79.0083722  78.42354474 50.9369577  87.61756863 80.02676528 52.98109071\n",
      " 69.69974856 54.09004291 51.80215944 61.5392704  63.59102883 54.68498604\n",
      " 82.71880419 56.69013916 56.27081885 50.23058635 51.81641915 72.55984021\n",
      " 79.1908862  80.78679117 63.6636457  74.43866658 61.02526133 90.04679763\n",
      " 42.11712843 56.6069269  74.18974562 54.41095481 55.61947509 72.62471608\n",
      " 81.94139057 61.94078805 77.6164986  59.32852353 83.76128359 86.94302137\n",
      " 61.30039927 57.60946334 58.61774075 69.5094511  59.96175478 70.80138519\n",
      " 63.69260877 79.08289584 65.19445092 60.18186513 42.75771876 57.9113694\n",
      " 72.5603081  71.09528391 46.05545424 48.29857333 75.92038673 69.76484831\n",
      " 59.57891466 47.16577948 48.47166343 78.32149691 80.02676528 88.23237924\n",
      " 49.73838283 60.54174642 90.44206291 80.78679117 52.68809715 76.43302276\n",
      " 88.46302965 79.36534935 63.69260877 70.59065523 86.88592896 60.57643864\n",
      " 72.34957814 63.43552801 64.47049029 75.55562612 48.29857333 83.89056743\n",
      " 82.69930813 67.35732773 84.57613552 43.63718022 62.61109414 67.53041783\n",
      " 72.44040465 71.45867147 74.85867867 52.20961961 62.60013915 79.48478492\n",
      " 66.18190273 88.28993954 42.11712843 59.07222116 75.55562612 72.74415165\n",
      " 55.55437533 89.33448376 52.09362192 53.74843217 74.03244632 61.30039927\n",
      " 75.07878902 86.69609939 63.49649812 53.79545242 81.19715548 53.79545242\n",
      " 80.94038522 68.26347406 52.3767672  69.87283867 50.23058635 70.38891256\n",
      " 79.25529417 58.42294222 68.52935836 57.60788874 68.87374009 79.66040774\n",
      " 53.55012737 78.48451485 75.08747763 58.41584003 63.4905556  58.02142457\n",
      " 68.51993447 88.28787472 50.05749624 49.29015478 69.0401959  74.85688019\n",
      " 59.19372155 65.81851517 84.53206292 72.91724175 73.3198661  72.55984021\n",
      " 48.47166343 48.29857333 84.64211809 42.99658989 88.46096482 72.74415165\n",
      " 51.2221678  60.79714364 66.52351347 46.53965041 87.39856498 48.85892137\n",
      " 71.6975426  62.06980555 90.22195256 61.89671545 57.54348076 54.42158149\n",
      " 58.93695129 45.52491908 47.97945991 85.45923639 59.46679466 69.71119377\n",
      " 82.57987257 54.74001363 62.13558657 79.32039393 59.67029231 65.51159664\n",
      " 63.13311055 59.30240368 45.52491908 91.98087547 70.62782719 58.36791463\n",
      " 69.21555238 58.76386118 64.54310716 41.88901074 45.35182898 61.8496952\n",
      " 53.74843217 78.8990088  78.20343439 73.86115469 92.68724683 48.04524094\n",
      " 75.79136923 58.44906207 75.96556604 74.32861141 73.67726764 59.13525609\n",
      " 92.85827211 54.45480352 52.69588061 58.76386118 95.54574155 91.10141402\n",
      " 59.24531127 61.71267035 71.47011668 54.36311603 91.62278216 64.64288862\n",
      " 50.23058635 80.08041982 68.86779757 72.3280831  68.16300082 62.93899329\n",
      " 81.13434443 64.06759959 78.02092039 43.46409011 45.00290267 81.1153821\n",
      " 83.87340359 57.1969907  65.20245826 75.38116297 65.68011727 76.96699578\n",
      " 70.61687221 47.97945991 73.86115469 50.61784428 66.95337384 71.45088801\n",
      " 77.4434085  71.69022704 82.28894383 56.29856692 69.58190992 92.85827211\n",
      " 57.32337041 64.64515499 65.52304185 84.00862995 88.46096482 67.15336219\n",
      " 70.51639897 60.31088264 68.52935836 71.33903436 76.44451147 56.37255683\n",
      " 55.12657979 69.92192373 57.97264935 76.68932512 48.91394896 67.82298701\n",
      " 77.55987408 61.62752003 63.09676049 55.8106777  59.78034749 60.38107509\n",
      " 76.54307793 89.38951135 77.01217508 79.26330152 96.78011534 66.19334794\n",
      " 87.34353739 46.06640922 58.41584003 84.7150013  58.24985211 46.92690835\n",
      " 45.52491908 61.45590009 56.32584644 69.10687025 66.46801799 74.03244632\n",
      " 44.70048521 60.30060892 81.37024558 77.07705095 85.11026658 63.33425857\n",
      " 50.9369577  51.98950926 86.35608558 44.47236752 77.54408328 76.43508758\n",
      " 71.44862164 74.20801617 61.22571758 43.24397976 49.46324489 45.52491908\n",
      " 66.22804016 64.09428447 76.49953906 44.7555128  42.3645183  75.78516037\n",
      " 48.29857333 78.60284371 78.49596006 68.08707284 62.9960857  78.37652449\n",
      " 87.80161372 62.16227145 73.94135347 81.01490886 79.4760963  67.28196477\n",
      " 73.09795727 83.29562431 71.34083284 87.58150337 65.12156771 75.79247594\n",
      " 72.79780619 55.61146774 46.71274052 59.07428598 42.82349978 88.56301266\n",
      " 56.85881783 54.42958883 52.10162926 93.95990874 70.38891256 84.57977494\n",
      " 63.12166534 82.96408573 51.04907769 62.44394655 55.2996699  88.46096482\n",
      " 51.27719539 66.57716801 62.27826914 67.4543631  73.49253078 65.44809382\n",
      " 69.96483667 71.64320679 58.81751572 66.17411927 87.40841326 51.98950926\n",
      " 60.38107509 66.84125384 80.53733648 62.33536155 79.0083722  69.58190992]\n"
=======
      "10.989496779769484\n",
      "3.3150409921703057\n",
      "[ 75.15368368  78.62567278  74.54102975  55.64230192  67.5682654\n",
      "  43.60733626  62.43782297  55.78156559  71.46903457  74.6290805\n",
      "  75.08144778  57.97246994  42.42085225  53.25576559  77.81989876\n",
      "  72.26755232  64.68592122  68.87036392  82.56982959  68.5553972\n",
      "  70.23448048  39.63934093  66.80753792  68.52647296  68.70050375\n",
      "  68.68026698  64.24274726  38.67855953  76.04222917  45.07370662\n",
      "  76.24286169  84.34974572  72.23971902  37.38745549  82.21449878\n",
      "  66.11288952  75.87892858  73.67427088  68.78231318  92.71085818\n",
      "  58.24475976  54.355047    58.18390757  45.29117796  81.25371738\n",
      "  50.07548289  61.89077965  55.64454846  48.53842648  71.7777782\n",
      "  76.76528948  88.16427433  57.5360314   76.94780286  67.11686015\n",
      "  54.83556586  80.65051334  69.51617859  45.29117796  54.0510618\n",
      "  64.78450754  74.07908894  71.1424991   80.69022448  57.01168855\n",
      "  57.15910859  79.96864706  71.13652732  74.12066639  45.74258321\n",
      "  79.81460172  80.3057181   86.50902959  79.34493671  84.49273463\n",
      "  67.58985739  76.01118729  53.63430019  53.24374713  57.56611124\n",
      "  60.02121599  73.10346394  59.90836468  51.16493044  66.63383442\n",
      "  87.46981098  66.27850361  71.58284792  68.84118836  59.18530437\n",
      "  52.30861445  75.08144778  62.28133271  82.89636506  78.94038819\n",
      "  92.03695889  53.39426561  57.84760017  69.28571755  62.02703313\n",
      "  44.18592477  93.32427575  63.13523457  55.13292578  91.15889121\n",
      "  60.18065449  39.04346388  88.78592318  72.37217235  77.07145928\n",
      "  81.38559211  60.99401584  85.77870924  72.67229547  52.12949901\n",
      "  80.3057181   43.48246649  56.40976483  83.47264008  49.62407765\n",
      "  96.55398375  72.04563688  61.37915697  93.12164801  79.87333627\n",
      "  68.47383909  78.84089759  77.42337393  68.59870886  55.27591469\n",
      "  87.65489819  76.70655493  46.13910804  87.34494121  67.69313517\n",
      "  68.47383909  58.47805891  51.31993781  86.50902959  63.48259839\n",
      "  50.91139451  86.53916718  50.06346443  42.29598248  79.95380345\n",
      "  77.86796884  59.58407574  92.48836413  58.94758329  53.25576559\n",
      "  97.16740132  48.79196241  54.09167721  68.7291007   51.79917636\n",
      "  51.29358739  82.54700603  62.22991219  85.35114252  74.12066639\n",
      "  62.58524301  72.31195492  69.15345884  47.19313872  48.27815513\n",
      "  69.84195042  65.84675653  63.75149025  71.11345244  76.03021071\n",
      "  70.95998572  54.73955338  62.98781453  66.27850361  69.19188966\n",
      "  55.008056    61.95479724  68.20251132  59.90984757  51.28980021\n",
      "  71.20728034  63.81234243  76.15508048  89.11245866  64.96483633\n",
      "  49.38635657  58.09965321  63.98921133  73.58622014  48.91683218\n",
      "  85.65004308  71.35618326  63.13523457  67.46743255  58.97983852\n",
      "  60.16632254  53.84785545  83.53285752  60.30552426  51.42077066\n",
      "  45.27157594  69.15345884  57.97246994  51.54564043  82.4402014\n",
      "  54.8787551   92.58598841  71.43985901  68.52904679  55.48959885\n",
      "  65.67305303  87.5595874   58.58267894  57.59304027  68.06401129\n",
      "  79.74146155  78.25928555  61.36040308  93.8336519   82.62380572\n",
      "  67.24172992  74.92553613  79.3321546   53.77877198  77.91115808\n",
      "  46.87039963  78.50324794  59.0604346   92.71085818  74.06803251\n",
      "  92.03695889  75.9895953   64.71227164  47.36620747  66.61571528\n",
      "  75.05728196  94.28505714  49.52549133  68.42821394  48.79196241\n",
      "  54.48820204  47.19313872  69.37318969  62.1963147   73.58024836\n",
      "  73.24169443  60.57332519  53.08649322  52.75995775  57.08462616\n",
      "  49.87761357  79.68748542  77.03218612  72.07423383  59.74956093\n",
      "  79.82893368  46.22033887  56.97402138  59.07393595  62.12465741\n",
      "  57.09889115  60.50045454  51.42077066  89.74670457  65.07865888\n",
      "  54.63493334  70.63788137  73.8829453   65.4616154   77.29850416\n",
      "  73.94058892  82.47124328  56.32319697  74.30928045  85.65004308\n",
      "  71.53626073  57.37054622  48.46548888  45.89380339  68.06401129\n",
      "  58.66390977  69.16084778  50.51192144  49.95061312  67.93914152\n",
      "  56.66111616  64.01929117  73.22967597  85.90357901  62.02703313\n",
      "  86.73949063  55.57385321  80.95898744  88.40751749  43.36961518\n",
      "  80.86195097  64.42859811  52.26870074  62.33993836  57.84760017\n",
      "  88.66105341  78.84089759  58.88131917 103.60598896  86.82130006\n",
      "  72.69709604  82.49893595  82.78351375  77.9073709   63.28196586\n",
      "  60.03323445  59.07393595  67.90958253  67.56569157  74.19290229\n",
      "  69.37318969  62.65150713  57.15910859  72.11484924  60.92999826\n",
      "  51.29358739  55.68073274  90.58261619  68.46882935  79.60444441\n",
      "  60.41837558  78.99899384  73.11682466  59.34756802  78.03224067\n",
      "  63.46781672  54.52881746  98.802082    65.34876409  66.79475581\n",
      "  79.68882767  83.55444951  90.44193158  53.58287967  68.06401129\n",
      "  41.68577348  52.95782707  79.5888991   95.37070831  77.42337393\n",
      "  66.38178138  51.92629267  61.21367178  87.07862317  65.85877499\n",
      "  41.4480524   55.76941823  51.64647328  92.58598841  55.99897499\n",
      "  50.06346443  75.92937786  59.20554115  68.5866904   44.94883685\n",
      "  45.07370662  51.98502721  58.11315456  71.19674476  51.54024726\n",
      "  57.41116163  84.14884367  67.38317819  49.91604439  47.83118102\n",
      "  86.90631807  80.62544324  76.67551305  76.70655493  82.10241111\n",
      "  71.88838297  50.23428665  74.58846508  67.46743255  92.37551282\n",
      "  48.98983173  74.48839588  61.95628012  57.74676732  51.99641093\n",
      "  72.14646973  73.159885    80.88733015  52.75995775  76.70655493\n",
      "  80.3057181   39.16833365  62.79070886  77.68288163  53.26939584\n",
      "  52.25436878  86.34296579  77.9073709   80.77447884  48.15392011\n",
      "  89.74670457  80.88733015  53.3543519   61.10686716  93.58983014\n",
      "  82.42818294  45.30319642  68.23110827  77.8078803   65.77157239\n",
      "  38.65895751  70.54919588  60.98199738  82.27471621  60.18065449\n",
      "  88.86773262  47.84454174  51.79917636  69.61469795  68.42821394\n",
      "  58.93325134  41.33520109  65.96778298  69.41759228  59.21313768\n",
      "  50.45998927]\n"
>>>>>>> e02ef273473faaef5b1bb42292b949d2a92cccc3
     ]
    }
   ],
   "source": [
    "#Function to select the training and test data\n",
    "from sklearn.linear_model import LinearRegression\n",
    "from sklearn.preprocessing import StandardScaler\n",
    "\n",
    "scaler = StandardScaler() \n",
    "reg = LinearRegression().fit(scaler.fit_transform(x_train[[\"n_student\",\"pretest\", \"school_type\",\"teaching_method\",\"gender\",\"lunch\",\"school_setting\"]]), y_train)\n",
    "predictions = reg.predict(scaler.fit_transform(x_test[[\"n_student\",\"pretest\", \"school_type\",\"teaching_method\",\"gender\",\"lunch\",\"school_setting\"]]))\n",
    "\n",
    "errors = mean_squared_error(predictions,y_test)\n",
    "print(errors)\n",
    "tree_rmse = np.sqrt(errors)\n",
    "print(tree_rmse)\n",
    "print(predictions)"
   ]
  },
  {
   "cell_type": "code",
<<<<<<< HEAD
   "execution_count": 11,
   "id": "basic-adapter",
=======
   "execution_count": 81,
>>>>>>> e02ef273473faaef5b1bb42292b949d2a92cccc3
   "metadata": {},
   "outputs": [
    {
     "name": "stdout",
     "output_type": "stream",
     "text": [
<<<<<<< HEAD
      "10.040928833133327\n",
      "3.1687424687300365\n"
     ]
    }
   ],
   "source": [
    "#Function to select the training and test data\n",
    "reg = LinearRegression().fit(x_train[[\"n_student\",\"pretest\", \"school_type\",\"teaching_method\",\"gender\",\"lunch\",\"school_setting\"]], y_train)\n",
    "predictions = reg.predict(x_test[[\"n_student\",\"pretest\", \"school_type\",\"teaching_method\",\"gender\",\"lunch\",\"school_setting\"]])\n",
    "\n",
    "errors = mean_squared_error(predictions,y_test)\n",
    "print(errors)\n",
    "tree_rmse = np.sqrt(errors)\n",
    "print(tree_rmse)\n"
   ]
  },
  {
   "cell_type": "code",
   "execution_count": 12,
   "id": "absolute-professor",
   "metadata": {},
   "outputs": [
    {
     "name": "stdout",
     "output_type": "stream",
     "text": [
      "11.384063102351725\n",
      "3.3740277269684262\n"
=======
      "10.290143676613456\n",
      "3.20782538125339\n"
>>>>>>> e02ef273473faaef5b1bb42292b949d2a92cccc3
     ]
    }
   ],
   "source": [
<<<<<<< HEAD
    "from sklearn.neural_network import MLPRegressor\n",
    "from sklearn import preprocessing\n",
    "min_max_scaler = preprocessing.MinMaxScaler()\n",
    "\n",
    "\n",
    "regr =  MLPRegressor(random_state=1, max_iter=1000)\n",
    "regr.fit(scaler.fit_transform(x_train[[\"n_student\",\"pretest\", \"school_type\",\"teaching_method\",\"gender\",\"lunch\",\"school_setting\"]]), y_train)\n",
    "predictions = regr.predict(scaler.fit_transform((x_test[[\"n_student\",\"pretest\", \"school_type\",\"teaching_method\",\"gender\",\"lunch\",\"school_setting\"]])))\n",
=======
    "#Function to select the training and test data\n",
    "reg = LinearRegression().fit(x_train[[\"n_student\",\"pretest\", \"school_type\",\"teaching_method\",\"gender\",\"lunch\",\"school_setting\"]], y_train)\n",
    "predictions = reg.predict(x_test[[\"n_student\",\"pretest\", \"school_type\",\"teaching_method\",\"gender\",\"lunch\",\"school_setting\"]])\n",
>>>>>>> e02ef273473faaef5b1bb42292b949d2a92cccc3
    "\n",
    "errors = mean_squared_error(predictions,y_test)\n",
    "print(errors)\n",
    "tree_rmse = np.sqrt(errors)\n",
<<<<<<< HEAD
    "print(tree_rmse)"
   ]
  },
  {
   "cell_type": "code",
   "execution_count": 17,
   "id": "touched-reality",
   "metadata": {},
   "outputs": [
    {
     "name": "stdout",
     "output_type": "stream",
     "text": [
      "14.504694835680752\n",
      "3.8085029651663334\n"
     ]
    }
   ],
   "source": [
    "from sklearn.ensemble import GradientBoostingRegressor\n",
    "\n",
    "gbrt = GradientBoostingRegressor()\n",
    "gbrt.fit(min_max_scaler.fit_transform(x_train[[\"n_student\",\"pretest\", \"school_type\",\"teaching_method\",\"gender\",\"lunch\",\"school_setting\"]]), y_train)\n",
    "predictions = gbrt.predict(min_max_scaler.fit_transform(x_test[[\"n_student\",\"pretest\", \"school_type\",\"teaching_method\",\"gender\",\"lunch\",\"school_setting\"]]))\n",
    "\n",
    "errors = mean_squared_error(np.round(predictions),y_test)\n",
    "print(errors)\n",
    "tree_rmse = np.sqrt(errors)\n",
    "print(tree_rmse)"
   ]
  },
  {
   "cell_type": "code",
   "execution_count": 14,
   "id": "applied-equilibrium",
   "metadata": {},
   "outputs": [
    {
     "name": "stdout",
     "output_type": "stream",
     "text": [
      "9.95774647887324\n",
      "3.1555897196678213\n"
     ]
    }
   ],
   "source": [
    "gbrt = GradientBoostingRegressor()\n",
    "gbrt.fit(x_train[[\"n_student\",\"pretest\", \"school_type\",\"teaching_method\",\"gender\",\"lunch\",\"school_setting\"]], y_train)\n",
    "predictions = gbrt.predict(x_test[[\"n_student\",\"pretest\", \"school_type\",\"teaching_method\",\"gender\",\"lunch\",\"school_setting\"]])\n",
    "\n",
    "errors = mean_squared_error(np.round(predictions),y_test)\n",
    "print(errors)\n",
    "tree_rmse = np.sqrt(errors)\n",
    "print(tree_rmse)"
=======
    "print(tree_rmse)\n"
>>>>>>> e02ef273473faaef5b1bb42292b949d2a92cccc3
   ]
  },
  {
   "cell_type": "code",
<<<<<<< HEAD
   "execution_count": 18,
   "id": "similar-reviewer",
   "metadata": {},
   "outputs": [
    {
     "data": {
      "text/html": [
       "<div>\n",
       "<style scoped>\n",
       "    .dataframe tbody tr th:only-of-type {\n",
       "        vertical-align: middle;\n",
       "    }\n",
       "\n",
       "    .dataframe tbody tr th {\n",
       "        vertical-align: top;\n",
       "    }\n",
       "\n",
       "    .dataframe thead th {\n",
       "        text-align: right;\n",
       "    }\n",
       "</style>\n",
       "<table border=\"1\" class=\"dataframe\">\n",
       "  <thead>\n",
       "    <tr style=\"text-align: right;\">\n",
       "      <th></th>\n",
       "      <th>school</th>\n",
       "      <th>school_setting</th>\n",
       "      <th>school_type</th>\n",
       "      <th>classroom</th>\n",
       "      <th>teaching_method</th>\n",
       "      <th>n_student</th>\n",
       "      <th>gender</th>\n",
       "      <th>lunch</th>\n",
       "      <th>pretest</th>\n",
       "      <th>posttest</th>\n",
       "    </tr>\n",
       "  </thead>\n",
       "  <tbody>\n",
       "    <tr>\n",
       "      <th>count</th>\n",
       "      <td>2133.000000</td>\n",
       "      <td>2133.000000</td>\n",
       "      <td>2133.000000</td>\n",
       "      <td>2133.000000</td>\n",
       "      <td>2133.000000</td>\n",
       "      <td>2133.000000</td>\n",
       "      <td>2133.000000</td>\n",
       "      <td>2133.000000</td>\n",
       "      <td>2133.000000</td>\n",
       "      <td>2133.000000</td>\n",
       "    </tr>\n",
       "    <tr>\n",
       "      <th>mean</th>\n",
       "      <td>11.264885</td>\n",
       "      <td>1.185654</td>\n",
       "      <td>0.741678</td>\n",
       "      <td>48.220816</td>\n",
       "      <td>0.643694</td>\n",
       "      <td>22.796531</td>\n",
       "      <td>0.504923</td>\n",
       "      <td>0.430380</td>\n",
       "      <td>54.955931</td>\n",
       "      <td>67.102203</td>\n",
       "    </tr>\n",
       "    <tr>\n",
       "      <th>std</th>\n",
       "      <td>6.516660</td>\n",
       "      <td>0.793525</td>\n",
       "      <td>0.437814</td>\n",
       "      <td>28.666968</td>\n",
       "      <td>0.479019</td>\n",
       "      <td>4.228893</td>\n",
       "      <td>0.500093</td>\n",
       "      <td>0.495245</td>\n",
       "      <td>13.563101</td>\n",
       "      <td>13.986789</td>\n",
       "    </tr>\n",
       "    <tr>\n",
       "      <th>min</th>\n",
       "      <td>0.000000</td>\n",
       "      <td>0.000000</td>\n",
       "      <td>0.000000</td>\n",
       "      <td>0.000000</td>\n",
       "      <td>0.000000</td>\n",
       "      <td>14.000000</td>\n",
       "      <td>0.000000</td>\n",
       "      <td>0.000000</td>\n",
       "      <td>22.000000</td>\n",
       "      <td>32.000000</td>\n",
       "    </tr>\n",
       "    <tr>\n",
       "      <th>25%</th>\n",
       "      <td>6.000000</td>\n",
       "      <td>1.000000</td>\n",
       "      <td>0.000000</td>\n",
       "      <td>24.000000</td>\n",
       "      <td>0.000000</td>\n",
       "      <td>20.000000</td>\n",
       "      <td>0.000000</td>\n",
       "      <td>0.000000</td>\n",
       "      <td>44.000000</td>\n",
       "      <td>56.000000</td>\n",
       "    </tr>\n",
       "    <tr>\n",
       "      <th>50%</th>\n",
       "      <td>11.000000</td>\n",
       "      <td>1.000000</td>\n",
       "      <td>1.000000</td>\n",
       "      <td>48.000000</td>\n",
       "      <td>1.000000</td>\n",
       "      <td>22.000000</td>\n",
       "      <td>1.000000</td>\n",
       "      <td>0.000000</td>\n",
       "      <td>56.000000</td>\n",
       "      <td>68.000000</td>\n",
       "    </tr>\n",
       "    <tr>\n",
       "      <th>75%</th>\n",
       "      <td>17.000000</td>\n",
       "      <td>2.000000</td>\n",
       "      <td>1.000000</td>\n",
       "      <td>74.000000</td>\n",
       "      <td>1.000000</td>\n",
       "      <td>27.000000</td>\n",
       "      <td>1.000000</td>\n",
       "      <td>1.000000</td>\n",
       "      <td>65.000000</td>\n",
       "      <td>77.000000</td>\n",
       "    </tr>\n",
       "    <tr>\n",
       "      <th>max</th>\n",
       "      <td>22.000000</td>\n",
       "      <td>2.000000</td>\n",
       "      <td>1.000000</td>\n",
       "      <td>96.000000</td>\n",
       "      <td>1.000000</td>\n",
       "      <td>31.000000</td>\n",
       "      <td>1.000000</td>\n",
       "      <td>1.000000</td>\n",
       "      <td>93.000000</td>\n",
       "      <td>100.000000</td>\n",
       "    </tr>\n",
       "  </tbody>\n",
       "</table>\n",
       "</div>"
      ],
      "text/plain": [
       "            school  school_setting  school_type    classroom  teaching_method  \\\n",
       "count  2133.000000     2133.000000  2133.000000  2133.000000      2133.000000   \n",
       "mean     11.264885        1.185654     0.741678    48.220816         0.643694   \n",
       "std       6.516660        0.793525     0.437814    28.666968         0.479019   \n",
       "min       0.000000        0.000000     0.000000     0.000000         0.000000   \n",
       "25%       6.000000        1.000000     0.000000    24.000000         0.000000   \n",
       "50%      11.000000        1.000000     1.000000    48.000000         1.000000   \n",
       "75%      17.000000        2.000000     1.000000    74.000000         1.000000   \n",
       "max      22.000000        2.000000     1.000000    96.000000         1.000000   \n",
       "\n",
       "         n_student       gender        lunch      pretest     posttest  \n",
       "count  2133.000000  2133.000000  2133.000000  2133.000000  2133.000000  \n",
       "mean     22.796531     0.504923     0.430380    54.955931    67.102203  \n",
       "std       4.228893     0.500093     0.495245    13.563101    13.986789  \n",
       "min      14.000000     0.000000     0.000000    22.000000    32.000000  \n",
       "25%      20.000000     0.000000     0.000000    44.000000    56.000000  \n",
       "50%      22.000000     1.000000     0.000000    56.000000    68.000000  \n",
       "75%      27.000000     1.000000     1.000000    65.000000    77.000000  \n",
       "max      31.000000     1.000000     1.000000    93.000000   100.000000  "
      ]
     },
     "execution_count": 18,
     "metadata": {},
     "output_type": "execute_result"
    }
   ],
   "source": [
    "data.describe()"
=======
   "execution_count": 86,
   "metadata": {},
   "outputs": [
    {
     "name": "stdout",
     "output_type": "stream",
     "text": [
      "10.783825457634688\n",
      "3.283873544708244\n"
     ]
    }
   ],
   "source": [
    "from sklearn.neural_network import MLPRegressor\n",
    "from sklearn import preprocessing\n",
    "min_max_scaler = preprocessing.MinMaxScaler()\n",
    "\n",
    "\n",
    "regr =  MLPRegressor(random_state=1, max_iter=1000)\n",
    "regr.fit(scaler.fit_transform(x_train[[\"n_student\",\"pretest\", \"school_type\",\"teaching_method\",\"gender\",\"lunch\",\"school_setting\"]]), y_train)\n",
    "predictions = regr.predict(scaler.fit_transform((x_test[[\"n_student\",\"pretest\", \"school_type\",\"teaching_method\",\"gender\",\"lunch\",\"school_setting\"]])))\n",
    "\n",
    "errors = mean_squared_error(predictions,y_test)\n",
    "print(errors)\n",
    "tree_rmse = np.sqrt(errors)\n",
    "print(tree_rmse)"
>>>>>>> e02ef273473faaef5b1bb42292b949d2a92cccc3
   ]
  },
  {
   "cell_type": "code",
<<<<<<< HEAD
   "execution_count": 16,
   "id": "reliable-butler",
=======
   "execution_count": 113,
   "metadata": {},
   "outputs": [
    {
     "name": "stdout",
     "output_type": "stream",
     "text": [
      "11.01643192488263\n",
      "3.319101071808846\n"
     ]
    }
   ],
   "source": [
    "from sklearn.ensemble import GradientBoostingRegressor\n",
    "\n",
    "gbrt = GradientBoostingRegressor()\n",
    "gbrt.fit(scaler.fit_transform(min_max_scaler.fit_transform(x_train[[\"n_student\",\"pretest\", \"school_type\",\"teaching_method\",\"gender\",\"lunch\",\"school_setting\"]])), y_train)\n",
    "predictions = gbrt.predict(scaler.fit_transform(min_max_scaler.fit_transform(x_test[[\"n_student\",\"pretest\", \"school_type\",\"teaching_method\",\"gender\",\"lunch\",\"school_setting\"]])))\n",
    "\n",
    "errors = mean_squared_error(np.round(predictions),y_test)\n",
    "print(errors)\n",
    "tree_rmse = np.sqrt(errors)\n",
    "print(tree_rmse)"
   ]
  },
  {
   "cell_type": "code",
   "execution_count": 114,
   "metadata": {},
   "outputs": [
    {
     "name": "stdout",
     "output_type": "stream",
     "text": [
      "9.835680751173708\n",
      "3.13618888958776\n"
     ]
    }
   ],
   "source": [
    "gbrt = GradientBoostingRegressor()\n",
    "gbrt.fit(x_train[[\"n_student\",\"pretest\", \"school_type\",\"teaching_method\",\"gender\",\"lunch\",\"school_setting\"]], y_train)\n",
    "predictions = gbrt.predict(x_test[[\"n_student\",\"pretest\", \"school_type\",\"teaching_method\",\"gender\",\"lunch\",\"school_setting\"]])\n",
    "\n",
    "errors = mean_squared_error(np.round(predictions),y_test)\n",
    "print(errors)\n",
    "tree_rmse = np.sqrt(errors)\n",
    "print(tree_rmse)"
   ]
  },
  {
   "cell_type": "code",
   "execution_count": 118,
   "metadata": {},
   "outputs": [
    {
     "name": "stdout",
     "output_type": "stream",
     "text": [
      "<class 'pandas.core.frame.DataFrame'>\n",
      "RangeIndex: 2133 entries, 0 to 2132\n",
      "Data columns (total 10 columns):\n",
      "school             2133 non-null int32\n",
      "school_setting     2133 non-null int32\n",
      "school_type        2133 non-null int32\n",
      "classroom          2133 non-null int32\n",
      "teaching_method    2133 non-null int32\n",
      "n_student          2133 non-null float64\n",
      "gender             2133 non-null int32\n",
      "lunch              2133 non-null int32\n",
      "pretest            2133 non-null float64\n",
      "posttest           2133 non-null float64\n",
      "dtypes: float64(3), int32(7)\n",
      "memory usage: 108.4 KB\n"
     ]
    }
   ],
   "source": [
    "data.info()"
   ]
  },
  {
   "cell_type": "code",
   "execution_count": 105,
>>>>>>> e02ef273473faaef5b1bb42292b949d2a92cccc3
   "metadata": {},
   "outputs": [
    {
     "data": {
      "text/html": [
       "<div>\n",
       "<style scoped>\n",
       "    .dataframe tbody tr th:only-of-type {\n",
       "        vertical-align: middle;\n",
       "    }\n",
       "\n",
       "    .dataframe tbody tr th {\n",
       "        vertical-align: top;\n",
       "    }\n",
       "\n",
       "    .dataframe thead th {\n",
       "        text-align: right;\n",
       "    }\n",
       "</style>\n",
       "<table border=\"1\" class=\"dataframe\">\n",
       "  <thead>\n",
       "    <tr style=\"text-align: right;\">\n",
       "      <th></th>\n",
       "      <th>school</th>\n",
       "      <th>school_setting</th>\n",
       "      <th>school_type</th>\n",
       "      <th>classroom</th>\n",
       "      <th>teaching_method</th>\n",
       "      <th>n_student</th>\n",
       "      <th>gender</th>\n",
       "      <th>lunch</th>\n",
       "      <th>pretest</th>\n",
       "      <th>posttest</th>\n",
       "    </tr>\n",
       "  </thead>\n",
       "  <tbody>\n",
       "    <tr>\n",
       "      <th>count</th>\n",
       "      <td>2133.000000</td>\n",
       "      <td>2133.000000</td>\n",
       "      <td>2133.000000</td>\n",
       "      <td>2133.000000</td>\n",
       "      <td>2133.000000</td>\n",
       "      <td>2133.000000</td>\n",
       "      <td>2133.000000</td>\n",
       "      <td>2133.000000</td>\n",
       "      <td>2133.000000</td>\n",
       "      <td>2133.000000</td>\n",
       "    </tr>\n",
       "    <tr>\n",
       "      <th>mean</th>\n",
       "      <td>11.264885</td>\n",
       "      <td>1.185654</td>\n",
       "      <td>0.741678</td>\n",
       "      <td>48.220816</td>\n",
       "      <td>0.643694</td>\n",
       "      <td>22.796531</td>\n",
       "      <td>0.504923</td>\n",
       "      <td>0.430380</td>\n",
       "      <td>54.955931</td>\n",
       "      <td>67.102203</td>\n",
       "    </tr>\n",
       "    <tr>\n",
       "      <th>std</th>\n",
       "      <td>6.516660</td>\n",
       "      <td>0.793525</td>\n",
       "      <td>0.437814</td>\n",
       "      <td>28.666968</td>\n",
       "      <td>0.479019</td>\n",
       "      <td>4.228893</td>\n",
       "      <td>0.500093</td>\n",
       "      <td>0.495245</td>\n",
       "      <td>13.563101</td>\n",
       "      <td>13.986789</td>\n",
       "    </tr>\n",
       "    <tr>\n",
       "      <th>min</th>\n",
       "      <td>0.000000</td>\n",
       "      <td>0.000000</td>\n",
       "      <td>0.000000</td>\n",
       "      <td>0.000000</td>\n",
       "      <td>0.000000</td>\n",
       "      <td>14.000000</td>\n",
       "      <td>0.000000</td>\n",
       "      <td>0.000000</td>\n",
       "      <td>22.000000</td>\n",
       "      <td>32.000000</td>\n",
       "    </tr>\n",
       "    <tr>\n",
       "      <th>25%</th>\n",
       "      <td>6.000000</td>\n",
       "      <td>1.000000</td>\n",
       "      <td>0.000000</td>\n",
       "      <td>24.000000</td>\n",
       "      <td>0.000000</td>\n",
       "      <td>20.000000</td>\n",
       "      <td>0.000000</td>\n",
       "      <td>0.000000</td>\n",
       "      <td>44.000000</td>\n",
       "      <td>56.000000</td>\n",
       "    </tr>\n",
       "    <tr>\n",
       "      <th>50%</th>\n",
       "      <td>11.000000</td>\n",
       "      <td>1.000000</td>\n",
       "      <td>1.000000</td>\n",
       "      <td>48.000000</td>\n",
       "      <td>1.000000</td>\n",
       "      <td>22.000000</td>\n",
       "      <td>1.000000</td>\n",
       "      <td>0.000000</td>\n",
       "      <td>56.000000</td>\n",
       "      <td>68.000000</td>\n",
       "    </tr>\n",
       "    <tr>\n",
       "      <th>75%</th>\n",
       "      <td>17.000000</td>\n",
       "      <td>2.000000</td>\n",
       "      <td>1.000000</td>\n",
       "      <td>74.000000</td>\n",
       "      <td>1.000000</td>\n",
       "      <td>27.000000</td>\n",
       "      <td>1.000000</td>\n",
       "      <td>1.000000</td>\n",
       "      <td>65.000000</td>\n",
       "      <td>77.000000</td>\n",
       "    </tr>\n",
       "    <tr>\n",
       "      <th>max</th>\n",
       "      <td>22.000000</td>\n",
       "      <td>2.000000</td>\n",
       "      <td>1.000000</td>\n",
       "      <td>96.000000</td>\n",
       "      <td>1.000000</td>\n",
       "      <td>31.000000</td>\n",
       "      <td>1.000000</td>\n",
       "      <td>1.000000</td>\n",
       "      <td>93.000000</td>\n",
       "      <td>100.000000</td>\n",
       "    </tr>\n",
       "  </tbody>\n",
       "</table>\n",
       "</div>"
      ],
      "text/plain": [
<<<<<<< HEAD
       "            school  school_setting  school_type    classroom  teaching_method  \\\n",
       "count  2133.000000     2133.000000  2133.000000  2133.000000      2133.000000   \n",
       "mean     11.264885        1.185654     0.741678    48.220816         0.643694   \n",
       "std       6.516660        0.793525     0.437814    28.666968         0.479019   \n",
       "min       0.000000        0.000000     0.000000     0.000000         0.000000   \n",
       "25%       6.000000        1.000000     0.000000    24.000000         0.000000   \n",
       "50%      11.000000        1.000000     1.000000    48.000000         1.000000   \n",
       "75%      17.000000        2.000000     1.000000    74.000000         1.000000   \n",
       "max      22.000000        2.000000     1.000000    96.000000         1.000000   \n",
       "\n",
       "         n_student       gender        lunch      pretest     posttest  \n",
       "count  2133.000000  2133.000000  2133.000000  2133.000000  2133.000000  \n",
       "mean     22.796531     0.504923     0.430380    54.955931    67.102203  \n",
       "std       4.228893     0.500093     0.495245    13.563101    13.986789  \n",
       "min      14.000000     0.000000     0.000000    22.000000    32.000000  \n",
       "25%      20.000000     0.000000     0.000000    44.000000    56.000000  \n",
       "50%      22.000000     1.000000     0.000000    56.000000    68.000000  \n",
       "75%      27.000000     1.000000     1.000000    65.000000    77.000000  \n",
       "max      31.000000     1.000000     1.000000    93.000000   100.000000  "
      ]
     },
     "execution_count": 16,
=======
       "array([72., 82., 79., 55., 68., 41., 68., 57., 69., 77., 74., 60., 42.,\n",
       "       56., 81., 78., 68., 72., 83., 65., 73., 42., 68., 69., 69., 67.,\n",
       "       68., 43., 70., 46., 76., 81., 73., 47., 84., 65., 74., 71., 73.,\n",
       "       91., 55., 56., 58., 40., 82., 47., 64., 60., 47., 73., 74., 82.,\n",
       "       59., 75., 74., 58., 78., 62., 51., 52., 61., 68., 73., 79., 57.,\n",
       "       60., 76., 70., 69., 51., 79., 80., 81., 86., 85., 66., 82., 54.,\n",
       "       57., 57., 61., 78., 62., 55., 70., 85., 70., 73., 69., 64., 55.,\n",
       "       77., 61., 87., 77., 94., 58., 61., 70., 70., 48., 94., 65., 50.,\n",
       "       93., 57., 39., 90., 71., 76., 80., 59., 85., 70., 55., 79., 40.,\n",
       "       61., 88., 48., 93., 73., 56., 87., 79., 68., 79., 77., 68., 55.,\n",
       "       84., 80., 43., 90., 68., 66., 59., 60., 83., 62., 54., 84., 51.,\n",
       "       43., 76., 84., 65., 94., 58., 59., 94., 54., 56., 74., 54., 56.,\n",
       "       79., 60., 82., 72., 63., 71., 67., 48., 55., 75., 66., 65., 68.,\n",
       "       77., 69., 56., 65., 66., 67., 60., 62., 68., 59., 57., 72., 64.,\n",
       "       79., 95., 65., 49., 61., 63., 74., 49., 88., 71., 66., 70., 53.,\n",
       "       62., 57., 80., 68., 46., 50., 68., 64., 54., 81., 53., 95., 71.,\n",
       "       72., 62., 68., 89., 60., 62., 70., 80., 83., 68., 96., 82., 74.,\n",
       "       81., 83., 56., 77., 52., 78., 59., 96., 77., 93., 74., 61., 49.,\n",
       "       69., 74., 96., 53., 71., 50., 63., 51., 72., 64., 75., 77., 64.,\n",
       "       53., 53., 55., 59., 79., 76., 75., 62., 78., 45., 61., 59., 62.,\n",
       "       61., 64., 53., 91., 63., 60., 75., 77., 67., 78., 74., 82., 56.,\n",
       "       75., 90., 74., 62., 51., 44., 67., 60., 76., 51., 45., 69., 58.,\n",
       "       58., 81., 92., 63., 82., 56., 73., 92., 41., 83., 61., 54., 63.,\n",
       "       62., 94., 78., 62., 98., 87., 69., 85., 80., 71., 60., 64., 59.,\n",
       "       69., 69., 78., 70., 61., 54., 68., 65., 50., 58., 95., 64., 83.,\n",
       "       62., 81., 76., 60., 76., 66., 55., 96., 73., 70., 91., 85., 95.,\n",
       "       52., 76., 39., 52., 77., 91., 80., 67., 53., 62., 83., 69., 41.,\n",
       "       52., 55., 97., 58., 54., 81., 55., 68., 43., 49., 53., 58., 72.,\n",
       "       51., 59., 88., 67., 52., 45., 88., 81., 75., 72., 80., 74., 52.,\n",
       "       81., 71., 93., 49., 75., 57., 58., 53., 75., 69., 78., 53., 74.,\n",
       "       81., 39., 62., 78., 55., 52., 85., 76., 84., 47., 91., 79., 47.,\n",
       "       58., 94., 87., 46., 69., 80., 63., 44., 69., 62., 86., 63., 93.,\n",
       "       47., 52., 70., 70., 60., 44., 67., 61., 56., 49.])"
      ]
     },
     "execution_count": 105,
>>>>>>> e02ef273473faaef5b1bb42292b949d2a92cccc3
     "metadata": {},
     "output_type": "execute_result"
    }
   ],
   "source": [
<<<<<<< HEAD
    "data.describe()"
=======
    "y_test"
>>>>>>> e02ef273473faaef5b1bb42292b949d2a92cccc3
   ]
  },
  {
   "cell_type": "code",
   "execution_count": null,
<<<<<<< HEAD
   "id": "suburban-stroke",
=======
>>>>>>> e02ef273473faaef5b1bb42292b949d2a92cccc3
   "metadata": {},
   "outputs": [],
   "source": []
  }
 ],
 "metadata": {
  "kernelspec": {
   "display_name": "Python 3",
   "language": "python",
   "name": "python3"
  },
  "language_info": {
   "codemirror_mode": {
    "name": "ipython",
    "version": 3
   },
   "file_extension": ".py",
   "mimetype": "text/x-python",
   "name": "python",
   "nbconvert_exporter": "python",
   "pygments_lexer": "ipython3",
   "version": "3.7.3"
  }
 },
 "nbformat": 4,
 "nbformat_minor": 5
}
